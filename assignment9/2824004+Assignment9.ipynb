{
 "cells": [
  {
   "cell_type": "markdown",
   "metadata": {},
   "source": [
    "# Intelligent Systems 2023: Practical Assignment 09\n",
    "\n",
    "\n",
    "Your name: Chantal Ariu\n",
    "\n",
    "Your VUnetID: car103\n",
    "\n",
    "If you do not provide your name and VUnetID we will not accept your submission. \n",
    "\n",
    "### Learning objectives\n",
    "At the end of this exercise you should be able to work with some basic fuzzy concepts, and implement and evaluate a simple probabilistic approach to playing Schnapsen. \n",
    "\n",
    "### Preliminaries\n",
    "\n",
    "In this worksheet we will implement a simple probabilistic strategy for an agent to play Schnapsen. \n",
    "\n",
    "\n",
    "### Practicalities\n",
    "\n",
    "Follow this Notebook step-by-step. \n",
    "\n",
    "Of course, you can do the exercises in any Programming Editor of your liking. But you do not have to. Feel free to simply write code in the Notebook. Please use your studentID+Assignment9.ipynb as the name of the Notebook.  \n",
    "\n",
    "Note: unlike the courses dedicated to programming we will not evaluate the style of the programs. But we will, however, test your programs on other data that we provide, and your program should give the correct output to the test-data as well.\n",
    "\n",
    "As was mentioned, the assignment is graded as pass/fail. To pass you need to have either a full working code or an explanation of what you tried and what didn't work for the tasks that you were unable to complete (you can use multi-line comments or a text cell).\n",
    "\n",
    "## Initialising\n",
    "\n",
    "First, we have to install the schnapsen python package. \n",
    "Run the below code cell.\n",
    "After running the cell, you have the schnapsen Github repository cloned in your current directory.\n",
    "You can find the new directory created with the name `schnapsen`.\n",
    "The detailed installation instructions can be found in the [README.md](https://github.com/intelligent-systems-course/schnapsen) of the repo.\n"
   ]
  },
  {
   "cell_type": "code",
   "execution_count": 1,
   "metadata": {},
   "outputs": [
    {
     "name": "stdout",
     "output_type": "stream",
     "text": [
      "Found existing installation: schnapsen 0.0.3\n",
      "Uninstalling schnapsen-0.0.3:\n",
      "  Successfully uninstalled schnapsen-0.0.3\n",
      "Cloning into 'schnapsen'...\n",
      "remote: Enumerating objects: 1735, done.\u001b[K\n",
      "remote: Counting objects: 100% (824/824), done.\u001b[K\n",
      "remote: Compressing objects: 100% (277/277), done.\u001b[K\n",
      "remote: Total 1735 (delta 602), reused 615 (delta 519), pack-reused 911\u001b[K\n",
      "Receiving objects: 100% (1735/1735), 2.18 MiB | 14.15 MiB/s, done.\n",
      "Resolving deltas: 100% (963/963), done.\n",
      "Obtaining file:///Users/chantalariu/Documents/Uni/Year%201/P2/Intelligent%20Systems/Assignments/assignment9/schnapsen\n",
      "  Installing build dependencies ... \u001b[?25ldone\n",
      "\u001b[?25h  Checking if build backend supports build_editable ... \u001b[?25ldone\n",
      "\u001b[?25h  Getting requirements to build editable ... \u001b[?25ldone\n",
      "\u001b[?25h  Preparing editable metadata (pyproject.toml) ... \u001b[?25ldone\n",
      "\u001b[?25hRequirement already satisfied: class-resolver>=0.0.10 in /opt/homebrew/lib/python3.11/site-packages (from schnapsen==0.0.3) (0.4.2)\n",
      "Requirement already satisfied: click==8.1.3 in /opt/homebrew/lib/python3.11/site-packages (from schnapsen==0.0.3) (8.1.3)\n",
      "Requirement already satisfied: scikit-learn==1.3.2 in /opt/homebrew/lib/python3.11/site-packages (from schnapsen==0.0.3) (1.3.2)\n",
      "Requirement already satisfied: joblib==1.3.2 in /opt/homebrew/lib/python3.11/site-packages (from schnapsen==0.0.3) (1.3.2)\n",
      "Requirement already satisfied: flask==2.3.3 in /opt/homebrew/lib/python3.11/site-packages (from schnapsen==0.0.3) (2.3.3)\n",
      "Requirement already satisfied: Werkzeug==3.0.1 in /opt/homebrew/lib/python3.11/site-packages (from schnapsen==0.0.3) (3.0.1)\n",
      "Requirement already satisfied: Jinja2>=3.1.2 in /opt/homebrew/lib/python3.11/site-packages (from flask==2.3.3->schnapsen==0.0.3) (3.1.2)\n",
      "Requirement already satisfied: itsdangerous>=2.1.2 in /opt/homebrew/lib/python3.11/site-packages (from flask==2.3.3->schnapsen==0.0.3) (2.1.2)\n",
      "Requirement already satisfied: blinker>=1.6.2 in /opt/homebrew/lib/python3.11/site-packages (from flask==2.3.3->schnapsen==0.0.3) (1.7.0)\n",
      "Requirement already satisfied: numpy<2.0,>=1.17.3 in /opt/homebrew/lib/python3.11/site-packages (from scikit-learn==1.3.2->schnapsen==0.0.3) (1.26.1)\n",
      "Requirement already satisfied: scipy>=1.5.0 in /opt/homebrew/lib/python3.11/site-packages (from scikit-learn==1.3.2->schnapsen==0.0.3) (1.11.3)\n",
      "Requirement already satisfied: threadpoolctl>=2.0.0 in /opt/homebrew/lib/python3.11/site-packages (from scikit-learn==1.3.2->schnapsen==0.0.3) (3.2.0)\n",
      "Requirement already satisfied: MarkupSafe>=2.1.1 in /opt/homebrew/lib/python3.11/site-packages (from Werkzeug==3.0.1->schnapsen==0.0.3) (2.1.3)\n",
      "Building wheels for collected packages: schnapsen\n",
      "  Building editable for schnapsen (pyproject.toml) ... \u001b[?25ldone\n",
      "\u001b[?25h  Created wheel for schnapsen: filename=schnapsen-0.0.3-0.editable-py3-none-any.whl size=16261 sha256=9cddc18ed991635b41ca433edbf7667d8ec5430dc6a401a38b7ee8740d3eb70f\n",
      "  Stored in directory: /private/var/folders/p9/3vhw02td3qzcsm583w1m4mgw0000gn/T/pip-ephem-wheel-cache-6m92_qfn/wheels/cc/93/95/01f3778a35e2d1e269fd73d285638f652db31afba576dd31e3\n",
      "Successfully built schnapsen\n",
      "Installing collected packages: schnapsen\n",
      "Successfully installed schnapsen-0.0.3\n"
     ]
    }
   ],
   "source": [
    "# If you are on a UNIX system (Linux or Mac OS)\n",
    "!python3 -m pip uninstall schnapsen -y && rm -rf schnapsen && git clone https://github.com/intelligent-systems-course/schnapsen && cd schnapsen && python3 -m pip install -e . && cd .."
   ]
  },
  {
   "cell_type": "code",
   "execution_count": null,
   "metadata": {},
   "outputs": [],
   "source": [
    "# If you are on Windows\n",
    "!pip uninstall schnapsen -y rd /s /q schnapsen && git clone https://github.com/intelligent-systems-course/schnapsen && cd schnapsen && pip install -e . && cd .."
   ]
  },
  {
   "cell_type": "markdown",
   "metadata": {},
   "source": [
    "## A Probability-based Bot. \n",
    "\n",
    "Now it is time to move to a real rational agent that plays Schnapsen, and to implement a probabilistic bot. The idea of this bot is described on the Canvas page for this assignment and in the probability.py file. \n",
    "\n",
    "### Tasks 1:\n",
    "You will have to finish the implementation of a bot that uses probabilistic reasoning to determine its next move. All you have to do is fill in the missing code at the lines marked with \"???\". At these spots, we explain what you will have to do, but we strongly recommend that you also have a careful look at the entire bot, and the documentation of the code to get the overall idea.  "
   ]
  },
  {
   "cell_type": "markdown",
   "metadata": {},
   "source": [
    "Now you need to start coding. In this directory, there is a file `probability_bot.py`,\n",
    "which you'll have to adjust to get it work.\n",
    "\n",
    "The bot `ProbabilityRandBot` in this file plays by the probability rule in Phase 1,\n",
    "and RandBot in the Phase 2. \n",
    "\n",
    "The next step is to finish the implemenation of this file. Open it in your favourite Python Editor and fill in the gaps. \n",
    "\n",
    "First, in line 110, you will need to implement the probability that the opponent has a problemCard. \n",
    "\n",
    "In line 117, you will have to update the maximam probability value and the chosen move accordingly. \n",
    "\n",
    "Now we can run a game between rand and your new bot, to check whether everything works fine.\n",
    "\n"
   ]
  },
  {
   "cell_type": "code",
   "execution_count": 4,
   "metadata": {},
   "outputs": [
    {
     "data": {
      "text/plain": [
       "('ProbabilityRandBot', 2, Score(direct_points=66, pending_points=0))"
      ]
     },
     "execution_count": 4,
     "metadata": {},
     "output_type": "execute_result"
    }
   ],
   "source": [
    "import random\n",
    "\n",
    "from schnapsen.bots import RandBot\n",
    "from schnapsen.game import SchnapsenGamePlayEngine\n",
    "from probability_bot import ProbabilityRandBot\n",
    "\n",
    "\n",
    "engine = SchnapsenGamePlayEngine()\n",
    "\n",
    "# Choose your first player\n",
    "player1 = \"RandBot\"\n",
    "player2 = \"ProbabilityRandBot\"\n",
    "\n",
    "\n",
    "winner, points, score = engine.play_game(\n",
    "    RandBot(random.Random(42), \"RandBot\"),\n",
    "    ProbabilityRandBot(random.Random(42), \"ProbabilityRandBot\"),\n",
    "    random.Random(0),\n",
    ")\n",
    "\n",
    "str(winner), points, score"
   ]
  },
  {
   "cell_type": "markdown",
   "metadata": {},
   "source": [
    "Provide in the following cell the code that you have written to make the probabilistic bot work:"
   ]
  },
  {
   "cell_type": "code",
   "execution_count": 28,
   "metadata": {},
   "outputs": [],
   "source": [
    "MyCode1 = \"\"\"\n",
    "probability = ((u - d) / u * (u - d - 1) / (u - 1) * (u - d - 2) / (u - 2) * (u - d - 3) / (u - 3) * (u - d - 4) / (u - 4))\n",
    "\n",
    "\n",
    "max_probability = probability\n",
    "chosen_move = move\n",
    "\"\"\""
   ]
  },
  {
   "cell_type": "markdown",
   "metadata": {},
   "source": [
    "### Task 2\n",
    "\n",
    "Run a tournament against some of the other bots, e.g. rand, kbbot or rdeep. Describe your findings in the next cell. "
   ]
  },
  {
   "cell_type": "code",
   "execution_count": 6,
   "metadata": {},
   "outputs": [
    {
     "data": {
      "text/plain": [
       "('RdeepBot', 2, Score(direct_points=69, pending_points=0))"
      ]
     },
     "execution_count": 6,
     "metadata": {},
     "output_type": "execute_result"
    }
   ],
   "source": [
    "import random\n",
    "\n",
    "from schnapsen.bots import RandBot\n",
    "from schnapsen.bots import RdeepBot\n",
    "from schnapsen.game import SchnapsenGamePlayEngine\n",
    "from probability_bot import ProbabilityRandBot\n",
    "\n",
    "\n",
    "engine = SchnapsenGamePlayEngine()\n",
    "\n",
    "# Choose your first player\n",
    "player1 = \"RdeepBot\"\n",
    "player2 = \"ProbabilityRandBot\"\n",
    "\n",
    "\n",
    "winner, points, score = engine.play_game(\n",
    "    RdeepBot(5, 5, random.Random(42), \"RdeepBot\"),\n",
    "    ProbabilityRandBot(random.Random(42), \"ProbabilityRandBot\"),\n",
    "    random.Random(0),\n",
    ")\n",
    "\n",
    "str(winner), points, score"
   ]
  },
  {
   "cell_type": "code",
   "execution_count": 29,
   "metadata": {},
   "outputs": [],
   "source": [
    "MyReport1 = \"\"\"\n",
    "Tournament: RdeepBot vs ProbabilityRandBot: \n",
    "    - output: ('RdeepBot', 2, Score(direct_points=69, pending_points=0))\n",
    "    - description: RdeepBot beats ProbabilityRandBot\n",
    "Tournament 2: \n",
    "\"\"\""
   ]
  },
  {
   "cell_type": "markdown",
   "metadata": {},
   "source": [
    "## Utility\n",
    "\n",
    "Unless we are very much mistaken, your new probability bot will not perform very well. One reason for this is that our probabilistic strategy has a serious flaw: the Aces and 10s have a high probability of not having a higher card of the same suit, so that our strategy will pick valuable cards in phase 1. This is a high-gain, but also a high-cost strategy, as a reasonably good opponent would trump those cards and win valuable points. \n",
    "\n",
    "One possible solution is to combine the probability of a card being easily beaten with the costs it takes to loose such a card. We do this by introducing a notion of utily, which simply divides the probability of being good by the costs of a potential loss of the played card. \n",
    "\n",
    "### Task 3 \n",
    "\n",
    "Now you need to do a bit of coding again. In this directory, you'll see `probability_bot_utility.py`, which includes the utility function on top of the probability we have been working on.\n",
    "\n",
    "The next step is to finish the implemenation of this file. Open it in your favourite Python Editor and fill in the gaps. \n",
    "\n",
    "First, you will need to copy / adapt the solutions from `probability_bot.py`, and add one more solution to the line 123\n"
   ]
  },
  {
   "cell_type": "code",
   "execution_count": 11,
   "metadata": {},
   "outputs": [
    {
     "data": {
      "text/plain": [
       "('ProbabilityUtilityRandBot', 2, Score(direct_points=66, pending_points=0))"
      ]
     },
     "execution_count": 11,
     "metadata": {},
     "output_type": "execute_result"
    }
   ],
   "source": [
    "import random\n",
    "\n",
    "from schnapsen.bots import RandBot\n",
    "from schnapsen.game import SchnapsenGamePlayEngine\n",
    "from probability_bot_utility import ProbabilityUtilityRandBot\n",
    "\n",
    "\n",
    "engine = SchnapsenGamePlayEngine()\n",
    "\n",
    "# Choose your first player\n",
    "player1 = \"RandBot\"\n",
    "player2 = \"ProbabilityUtilityRandBot\"\n",
    "\n",
    "\n",
    "winner, points, score = engine.play_game(\n",
    "    RandBot(random.Random(42), \"RandBot\"),\n",
    "    ProbabilityUtilityRandBot(random.Random(42), \"ProbabilityUtilityRandBot\"),\n",
    "    random.Random(0),\n",
    ")\n",
    "\n",
    "str(winner), points, score"
   ]
  },
  {
   "cell_type": "code",
   "execution_count": 10,
   "metadata": {},
   "outputs": [],
   "source": [
    "MyCode2 =\"\"\"\n",
    "utility_heuristics = probability / points\n",
    "\"\"\""
   ]
  },
  {
   "cell_type": "markdown",
   "metadata": {},
   "source": [
    "### Task 4\n",
    "\n",
    "Now it is time to evaluate your two new bots: utility and probability. Run a number of tournaments in the next cell. \n",
    "Summarise what you did, and what the results were. "
   ]
  },
  {
   "cell_type": "code",
   "execution_count": 25,
   "metadata": {},
   "outputs": [
    {
     "data": {
      "text/plain": [
       "('NewProbabilityUtilityBot', 1, Score(direct_points=61, pending_points=0))"
      ]
     },
     "execution_count": 25,
     "metadata": {},
     "output_type": "execute_result"
    }
   ],
   "source": [
    "import random\n",
    "\n",
    "from schnapsen.bots import RandBot\n",
    "from new_probability_bot_utility import NewProbabilityUtilityBot\n",
    "from schnapsen.game import SchnapsenGamePlayEngine\n",
    "from probability_bot_utility import ProbabilityUtilityRandBot\n",
    "\n",
    "\n",
    "engine = SchnapsenGamePlayEngine()\n",
    "\n",
    "# Choose your first player\n",
    "player1 = \"NewProbabilityUtilityRandBot\"\n",
    "# player2 = \"ProbabilityUtilityRandBot\"\n",
    "# player2 = \"RandBot\"\n",
    "player2 = \"ProbabilityRandBot\"\n",
    "# player2 = \"rdeepbot\"\n",
    "\n",
    "\n",
    "winner, points, score = engine.play_game(\n",
    "    NewProbabilityUtilityBot(random.Random(42), \"NewProbabilityUtilityBot\"),\n",
    "    ProbabilityRandBot(random.Random(42), \"ProbabilityRandBot\"),\n",
    "    # RandBot(random.Random(42), \"RandBot\"),\n",
    "    # ProbabilityUtilityRandBot(random.Random(42), \"ProbabilityUtilityRandBot\"),\n",
    "    # RdeepBot(5, 5, random.Random(42), \"RdeepBot\"),\n",
    "    random.Random(0),\n",
    ")\n",
    "\n",
    "str(winner), points, score"
   ]
  },
  {
   "cell_type": "code",
   "execution_count": 27,
   "metadata": {},
   "outputs": [],
   "source": [
    "MyReport2 =\"\"\"\n",
    "Tournament 1: Randbot vs ProbabilityUtilityRandbot\n",
    "    - Output: ('ProbabilityUtilityRandBot', 2, Score(direct_points=66, pending_points=0))\n",
    "    - Description: ProbabilityUtilityRandbot won against Randbot\n",
    "Tournament 2: RdeepBot vs ProbabilityUtilityRandbot\n",
    "    - Output: ('RdeepBot', 2, Score(direct_points=69, pending_points=0))\n",
    "    - Description: ProbabilityUtilityRandbot lost against RdeepBot (just like the other ProbabilityRandbot)\n",
    "\"\"\""
   ]
  },
  {
   "cell_type": "markdown",
   "metadata": {},
   "source": [
    "### Task 5\n",
    "\n",
    "Again, unless we are much mistaken, the results will be disappointing for both bots. The final task is to change one of the bots and try to improve it. \n",
    "In the next cell, describe what changes you attempted to make, add the code that you have changed or added, and report on the tournaments you ran (what did you do, and what were the results). \n",
    "\n",
    "Note: do not despair, this is not a simple task and chances are that you will not manage to improve performance much. But still, describe what you have tried. "
   ]
  },
  {
   "cell_type": "code",
   "execution_count": 26,
   "metadata": {},
   "outputs": [],
   "source": [
    "MyReport3 =\"\"\"\n",
    "My initial approach was to think of why ProbabilityUtilityRandbot was so underperforming and then take that and change it a little bit.\n",
    "In the first phase, ProbabilityUtilityRandbot plays cards with the highest probability of not being beaten by the opponent. In the\n",
    "second phase it just plays completely randomly. This strategy does not take into account any cards that have been played so far and\n",
    "is therefore very naive.\n",
    "\n",
    "So my idea was to look into having weighted probabilities and incorporating cards that have been played before so that the improved \n",
    "ProbabilityUtilityRandbot will be able to take into account the cards played so far. I did some research on how weighting functions work\n",
    "and then incorporated a simple weight function that works simply by inversing the scores of the function, so that the most valuable\n",
    "cards won't be played first blindly.\n",
    "And this also makes sense when we would play Schnapsen, since we usually hold onto the most valuable cards for longer than the ones that aren't.\n",
    "\n",
    "This bot (NewProbabilityUtilityRandbot) wins against the normal ProbabilityUtilityRandbot, against the ProbabilityRandbot, and against\n",
    "Randbot, which shows a slight improvement, however, it does not manage to beat rdeepbot. \n",
    "A suggestion that might be worth considering would be to change up the way that ProbabilityUtilityRandbot\n",
    "plays in Phase 2 from completely playing randomly to playing with a specific strategy.\n",
    "\n",
    "Tournament 1: NewProbabilityUtilityRandbot vs ProbabilityUtilityRandbot\n",
    "    - Output: ('NewProbabilityUtilityBot', 1, Score(direct_points=61, pending_points=0))\n",
    "Tournament 2: NewProbabilityUtilityRandbot vs ProbabilityRandbot\n",
    "    - Output: ('NewProbabilityUtilityBot', 1, Score(direct_points=61, pending_points=0))\n",
    "Tournament 3: NewProbabilityUtilityRandbot vs Randbot: \n",
    "    - Output: ('NewProbabilityUtilityBot', 2, Score(direct_points=68, pending_points=0))\n",
    "Tournament 4: NewProbabilityUtilityRandbot vs RdeepBot: \n",
    "    - Output: ('RdeepBot', 2, Score(direct_points=76, pending_points=0))\n",
    "\n",
    "The code I added is here (it's right below the \"dangerous_cards\" definition):\n",
    "weighted_dangerous_cards = 0\n",
    "# We extract the scores into a variable for readability\n",
    "scores = perspective.get_engine().trick_scorer.SCORES\n",
    "for card in unseen_cards:\n",
    "    if (card.suit == move.card.suit) and (scores[card.rank] > scores[move.card.rank]):\n",
    "        # Here, we calculate the weight by taking the inverse of the scores\n",
    "        weight = 1 / scores[card.rank]\n",
    "        weighted_dangerous_cards += weight\n",
    "\"\"\""
   ]
  },
  {
   "cell_type": "markdown",
   "metadata": {},
   "source": [
    "## Final Task: Collect all the results\n",
    "\n",
    "Uncomment and run this cell (and all the cells above) to generate the text file that you have to hand in together with the notebook on canvas!\n",
    "\n",
    "### Please hand in only the text file which is generated by this method!"
   ]
  },
  {
   "cell_type": "code",
   "execution_count": 30,
   "metadata": {},
   "outputs": [],
   "source": [
    "def exportToText(*args):\n",
    "    with open(args[0], \"w\") as f:\n",
    "        for argument in args:\n",
    "            f.write(\"{}\\n\".format(argument))\n",
    "\n",
    "exportToText(\"assignment9.txt\", MyCode1, MyCode2, MyReport1, MyReport2, MyReport3 )"
   ]
  }
 ],
 "metadata": {
  "kernelspec": {
   "display_name": "Python 3 (ipykernel)",
   "language": "python",
   "name": "python3"
  }
 },
 "nbformat": 4,
 "nbformat_minor": 4
}
