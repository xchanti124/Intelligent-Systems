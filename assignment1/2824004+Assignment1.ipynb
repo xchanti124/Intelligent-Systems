{
 "cells": [
  {
   "cell_type": "markdown",
   "metadata": {},
   "source": [
    "# Intelligent Systems 2022: Practical Assignment No 1\n",
    "\n",
    "This is the first assignment for Intelligent Systems. Since we are only starting, we will try to keep it short and will try to get you familiar with some basic data structures and will have a first look at search algorithms.\n",
    "\n",
    "\n",
    "\n",
    "## Graphs, Trees, and a bit of Search"
   ]
  },
  {
   "cell_type": "markdown",
   "metadata": {},
   "source": [
    "Your name: Chantal Elena Ariu\n",
    "\n",
    "Your VUNetID: car103\n",
    "\n",
    "If you do not provide your name and VUNetID we will not accept your submission. \n",
    "\n",
    "### Learning objectives\n",
    "\n",
    "At the end of this exercise you should be able to understand basic ideas on how to represent graphs and trees in python. Furthermore, we will have a look into search algorithms in trees.\n",
    "\n",
    "1. Understanding graph datastructures\n",
    "2. Make small modifications of the code to implement a tree datastructure\n",
    "3. Modify a tree search algorithm\n",
    "\n",
    "### Practicalities\n",
    "\n",
    "Follow this Notebook step-by-step. \n",
    "\n",
    "Of course, you can do the exercises in any Programming Editor of your liking. \n",
    "But you do not have to. Feel free to simply write code in the Notebook. Please use your studentID+Assignment1.ipynb as the name of the Notebook.  \n",
    "\n",
    "Note: Unlike the courses dedicated to programming we will not evaluate the style of the programs. But we will, however, test your programs on other data that we provide, and your program should give the correct output to the test-data as well.\n",
    "\n",
    "As was mentioned, the assignment is graded as pass/fail. To pass you need to have either a full working code or an explanation of what you tried and what didn't work for the tasks that you were unable to complete (you can use multi-line comments or a text cell).\n",
    "\n",
    "## Initialising \n",
    "\n",
    "First, let us make sure the necessary packages are installed, and imported. Run the following code:"
   ]
  },
  {
   "cell_type": "code",
   "execution_count": 37,
   "metadata": {},
   "outputs": [
    {
     "name": "stdout",
     "output_type": "stream",
     "text": [
      "Requirement already satisfied: numpy in /opt/homebrew/lib/python3.11/site-packages (1.26.1)\n",
      "\n",
      "\u001b[1m[\u001b[0m\u001b[34;49mnotice\u001b[0m\u001b[1;39;49m]\u001b[0m\u001b[39;49m A new release of pip is available: \u001b[0m\u001b[31;49m23.2.1\u001b[0m\u001b[39;49m -> \u001b[0m\u001b[32;49m23.3.1\u001b[0m\n",
      "\u001b[1m[\u001b[0m\u001b[34;49mnotice\u001b[0m\u001b[1;39;49m]\u001b[0m\u001b[39;49m To update, run: \u001b[0m\u001b[32;49mpython3.11 -m pip install --upgrade pip\u001b[0m\n",
      "Requirement already satisfied: networkx in /opt/homebrew/lib/python3.11/site-packages (3.2.1)\n",
      "\n",
      "\u001b[1m[\u001b[0m\u001b[34;49mnotice\u001b[0m\u001b[1;39;49m]\u001b[0m\u001b[39;49m A new release of pip is available: \u001b[0m\u001b[31;49m23.2.1\u001b[0m\u001b[39;49m -> \u001b[0m\u001b[32;49m23.3.1\u001b[0m\n",
      "\u001b[1m[\u001b[0m\u001b[34;49mnotice\u001b[0m\u001b[1;39;49m]\u001b[0m\u001b[39;49m To update, run: \u001b[0m\u001b[32;49mpython3.11 -m pip install --upgrade pip\u001b[0m\n",
      "Requirement already satisfied: decorator==5.0.9 in /opt/homebrew/lib/python3.11/site-packages (5.0.9)\n",
      "\n",
      "\u001b[1m[\u001b[0m\u001b[34;49mnotice\u001b[0m\u001b[1;39;49m]\u001b[0m\u001b[39;49m A new release of pip is available: \u001b[0m\u001b[31;49m23.2.1\u001b[0m\u001b[39;49m -> \u001b[0m\u001b[32;49m23.3.1\u001b[0m\n",
      "\u001b[1m[\u001b[0m\u001b[34;49mnotice\u001b[0m\u001b[1;39;49m]\u001b[0m\u001b[39;49m To update, run: \u001b[0m\u001b[32;49mpython3.11 -m pip install --upgrade pip\u001b[0m\n",
      "Requirement already satisfied: matplotlib in /opt/homebrew/lib/python3.11/site-packages (3.8.1)\n",
      "Requirement already satisfied: contourpy>=1.0.1 in /opt/homebrew/lib/python3.11/site-packages (from matplotlib) (1.2.0)\n",
      "Requirement already satisfied: cycler>=0.10 in /opt/homebrew/lib/python3.11/site-packages (from matplotlib) (0.12.1)\n",
      "Requirement already satisfied: fonttools>=4.22.0 in /opt/homebrew/lib/python3.11/site-packages (from matplotlib) (4.44.0)\n",
      "Requirement already satisfied: kiwisolver>=1.3.1 in /opt/homebrew/lib/python3.11/site-packages (from matplotlib) (1.4.5)\n",
      "Requirement already satisfied: numpy<2,>=1.21 in /opt/homebrew/lib/python3.11/site-packages (from matplotlib) (1.26.1)\n",
      "Requirement already satisfied: packaging>=20.0 in /opt/homebrew/lib/python3.11/site-packages (from matplotlib) (23.2)\n",
      "Requirement already satisfied: pillow>=8 in /opt/homebrew/lib/python3.11/site-packages (from matplotlib) (10.1.0)\n",
      "Requirement already satisfied: pyparsing>=2.3.1 in /opt/homebrew/lib/python3.11/site-packages (from matplotlib) (3.1.1)\n",
      "Requirement already satisfied: python-dateutil>=2.7 in /opt/homebrew/lib/python3.11/site-packages (from matplotlib) (2.8.2)\n",
      "Requirement already satisfied: six>=1.5 in /opt/homebrew/lib/python3.11/site-packages (from python-dateutil>=2.7->matplotlib) (1.16.0)\n",
      "\n",
      "\u001b[1m[\u001b[0m\u001b[34;49mnotice\u001b[0m\u001b[1;39;49m]\u001b[0m\u001b[39;49m A new release of pip is available: \u001b[0m\u001b[31;49m23.2.1\u001b[0m\u001b[39;49m -> \u001b[0m\u001b[32;49m23.3.1\u001b[0m\n",
      "\u001b[1m[\u001b[0m\u001b[34;49mnotice\u001b[0m\u001b[1;39;49m]\u001b[0m\u001b[39;49m To update, run: \u001b[0m\u001b[32;49mpython3.11 -m pip install --upgrade pip\u001b[0m\n"
     ]
    }
   ],
   "source": [
    "import sys\n",
    "!{sys.executable} -m pip install numpy\n",
    "!{sys.executable} -m pip install networkx\n",
    "!{sys.executable} -m pip install decorator==5.0.9\n",
    "!{sys.executable} -m pip install matplotlib\n",
    "import datetime\n",
    "import numpy as np\n",
    "from numpy import random\n",
    "\n",
    "\n",
    "# This might produce a warning that numpy is already installed. "
   ]
  },
  {
   "cell_type": "markdown",
   "metadata": {},
   "source": [
    "## Representing Graphs in Python\n",
    "\n",
    "\n",
    "\n",
    "<img src=\"graph.png\" width=\"300\"/>\n",
    "\n",
    "\n",
    "### Graph with Dictionaries\n",
    "\n",
    "#### Task 1\n",
    "Represent the graph from the figure as in a Python dictionary and describe your datastructure."
   ]
  },
  {
   "cell_type": "code",
   "execution_count": 38,
   "metadata": {},
   "outputs": [],
   "source": [
    "# Write your code here\n",
    "from typing import Dict, List\n",
    "\n",
    "adjacency_list: Dict[str, List[str]] = {\n",
    "    \"a\": [\"b\"],\n",
    "    \"b\": [\"a\", \"c\", \"d\"],\n",
    "    \"c\": [\"b\", \"d\", \"f\", \"e\"],\n",
    "    \"d\": [\"b\", \"c\"],\n",
    "    \"e\": [\"c\"],\n",
    "    \"f\": [\"c\"]\n",
    "}\n"
   ]
  },
  {
   "cell_type": "code",
   "execution_count": 39,
   "metadata": {},
   "outputs": [],
   "source": [
    "dict_graph_explanation = \"\"\"\n",
    "In order to represent the given graph in a dictionary, I chose to use\n",
    "the following datastructure: adjacency list.\n",
    "\n",
    "Dictionaries have keys corresponding values. \n",
    "In an adjacency list, each key represents a vertex which then has a value \n",
    "mapped to it, specifically a list of directly neighboring vertices.\n",
    "For example, looking at the graph, the vertex 'b' has 3 directly neighboring\n",
    "vertices, 'a', 'c', and 'd'. In an adjacency list this would therefore mean that \n",
    "the key 'b' is mapped to the value ['a', 'c', 'd']\n",
    "\"\"\""
   ]
  },
  {
   "cell_type": "markdown",
   "metadata": {},
   "source": [
    "### Graph with Adjacency Matrices\n",
    "\n",
    "As mentioned in the working groups and the 1st working group exercise sheet, you can represent graphs also as adjancency matrices with 0 and 1. This is a standard format for representing graphs that we therefore will also explore practically.\n",
    "\n",
    "\n",
    "#### Task 2\n",
    "Come up with your own adjacency matrix representation for the graph from above in Python.\n",
    "Then describe what you did in a couple of sentences."
   ]
  },
  {
   "cell_type": "code",
   "execution_count": 40,
   "metadata": {},
   "outputs": [
    {
     "name": "stdout",
     "output_type": "stream",
     "text": [
      "[0, 1, 0, 0, 0, 0]\n",
      "[1, 0, 1, 1, 0, 0]\n",
      "[0, 1, 0, 1, 1, 1]\n",
      "[0, 1, 1, 0, 0, 0]\n",
      "[0, 0, 1, 0, 0, 0]\n",
      "[0, 0, 1, 0, 0, 0]\n"
     ]
    }
   ],
   "source": [
    "# Write your adjacency matrix code here\n",
    "# 0 = a, 1 = b, 2 = c, 3 = d, 4 = e, 5 = f\n",
    "\n",
    "# Create a 6x6 adjacency matrix initialized with zeros\n",
    "num_vertices = 6\n",
    "adjacency_matrix: List[List[int]] = [[0] * num_vertices for _ in range(num_vertices)]\n",
    "\n",
    "\n",
    "vertex_map: Dict[str, int] = {}\n",
    "\n",
    "count = 0\n",
    "for key, value in adjacency_list.items(): # Map 'a' to 0, 'b' to 1, and so on\n",
    "    vertex_map[key] = count\n",
    "    count += 1\n",
    "\n",
    "for vertex, neighbors in adjacency_list.items():\n",
    "    vertex_int: int = vertex_map[vertex]  \n",
    "    for neighbor in neighbors:\n",
    "        neighbor_index = vertex_map[neighbor]\n",
    "        adjacency_matrix[vertex_int][neighbor_index] = 1\n",
    "\n",
    "# Printing the adjacency matrix\n",
    "for row in adjacency_matrix:\n",
    "    print(row)"
   ]
  },
  {
   "cell_type": "code",
   "execution_count": 41,
   "metadata": {},
   "outputs": [],
   "source": [
    "\n",
    "adj_graph_explanation = \"\"\"\n",
    "In order to create an adjacency matrix I first initialized the variable num_vertices to\n",
    "6 since there are a total of 6 nodes in the graph that I want to represent. Then I created \n",
    "a list of lists (my matrix) that is 6x6 (num_vertices) large with only zeroes, since it will serve as the \n",
    "initial state of no connections between nodes being expressed yet. This empty matrix will be used to represent\n",
    "the graph and is therefore also initialized to adjacency_matrix.\n",
    "\n",
    "I then created an empty dictionary (vertix_map) which will store the vertices alphabetically as keys and numerically\n",
    "as each corresponding value to its key.\n",
    "\n",
    "Then, using a nested for loop, I first iterate through every item in the adjacency list and store the vertices (a, b, c,...)\n",
    "in the variable vertex_int which I get using the vertex_map dictionary. Basically, each alphabetic vertex has an integer \n",
    "mapped to it in vertex_map, and during vertex_int = vertex_map[vertex] the integer of each alphabetic vertex will be stored\n",
    "in that variable.\n",
    "For each iteration of that process, a second for loop is called which iterates over the list of neighbors (obtained from first for loop) \n",
    "of each vertex and then updates the adjacency_matrix for each neighbor and its connecting vertex. So whenever there is a connection,\n",
    "the 0 from the initial state of the matrix will be turned into a 1 to represent a connection.\n",
    "\n",
    "My result is more easily visualized using the following annotation:\n",
    "#    a  b  c  d  e  f\n",
    "# a [0, 1, 0, 0, 0, 0]\n",
    "# b [1, 0, 1, 1, 0, 0]\n",
    "# c [0, 1, 0, 1, 1, 1]\n",
    "# d [0, 1, 1, 0, 0, 0]\n",
    "# e [0, 0, 1, 0, 0, 0]\n",
    "# f [0, 0, 1, 0, 0, 0]\n",
    "\n",
    "So now we can see that, indeed, 'b' has a connection with 'a', 'c', and 'd'\n",
    "\"\"\"\n",
    "\n"
   ]
  },
  {
   "cell_type": "markdown",
   "metadata": {},
   "source": [
    "## Representing Trees in Python\n",
    "\n",
    "As for many abstract datastructures, there is many ways on how to represent them in Python. In this tasks, we will have a look at some helpful representations for graphs and trees. \n",
    "There are actually many more that you will encounter throughout your studies, because graphs and trees are maybe the most important data structures in AI and computer science.\n"
   ]
  },
  {
   "cell_type": "markdown",
   "metadata": {},
   "source": [
    "### Binary Trees"
   ]
  },
  {
   "cell_type": "code",
   "execution_count": 44,
   "metadata": {},
   "outputs": [
    {
     "name": "stdout",
     "output_type": "stream",
     "text": [
      "Found 15\n"
     ]
    }
   ],
   "source": [
    "class Node:\n",
    "    def __init__(self, val):\n",
    "        self.left = None\n",
    "        self.right = None\n",
    "        self.value = val\n",
    "\n",
    "class Tree:\n",
    "    def __init__(self):\n",
    "        self.root = None\n",
    "\n",
    "    def getRoot(self):\n",
    "        return self.root\n",
    "\n",
    "    def add(self, val):\n",
    "        if self.root is None:\n",
    "            self.root = Node(val)\n",
    "        else:\n",
    "            self._add(val, self.root)\n",
    "\n",
    "    def _add(self, val, node):\n",
    "        if val < node.value:\n",
    "            if node.left is not None:\n",
    "                self._add(val, node.left)\n",
    "            else:\n",
    "                node.left = Node(val)\n",
    "        else:\n",
    "            if node.right is not None:\n",
    "                self._add(val, node.right)\n",
    "            else:\n",
    "                node.right = Node(val)\n",
    "\n",
    "    def search(self, v):\n",
    "        \"\"\"\n",
    "        Perform binary search to find the node with the input value\n",
    "        \"\"\"\n",
    "        if self.root is None:\n",
    "            return None\n",
    "        else:\n",
    "            self._search(v, self.root)\n",
    "    \n",
    "    def _search(self, v, node):\n",
    "        if node.value == v:\n",
    "            print(f\"Found {node.value}\")\n",
    "            return node\n",
    "        elif (node.left is not None and node.value > v):\n",
    "            return self._search(v, node.left)\n",
    "        elif (node.right is not None and node.value < v):\n",
    "            return self._search(v, node.right)\n",
    "        else:\n",
    "            return None\n",
    "\n",
    "\n",
    "tree = Tree()\n",
    "\n",
    "for i in range(1, 21):\n",
    "    tree.add(i)\n",
    "\n",
    "tree.search(15)\n",
    "\n",
    "\n"
   ]
  },
  {
   "cell_type": "markdown",
   "metadata": {},
   "source": [
    "Try to play around with the code of the binary tree to get an idea of what exactly is happening. \n",
    "Also try to draw a binary tree on paper, to get a better idea of what it is."
   ]
  },
  {
   "cell_type": "markdown",
   "metadata": {},
   "source": [
    "### Task 3\n",
    "Add 20 nodes to the binary tree and complete the method that searches for the node with a certain value.\n",
    "Afterwards describe the algorithm and the idea of your algorithm in at least 5 sentences.\n",
    "\n",
    "*Hint: It might be a good idea to have a closer look at the add function to complete the search function*"
   ]
  },
  {
   "cell_type": "code",
   "execution_count": 43,
   "metadata": {},
   "outputs": [],
   "source": [
    "explain_binary=\"\"\"\n",
    "The _search() method allows us to search for a specific value ('v') in a binary tree by using recursion. Starting from the search() method,\n",
    "we check whether the tree is empty, in which case we just return None since there is nothing to search for in an empty tree. If the tree is\n",
    "not empty however, we call the ._search() method on self with the root node passed in as our starting point. \n",
    "At that point, we are at the _search() function and simply compare whether the value of our current node (in the first round this will \n",
    "be the root node) is equal to the value that we got passed in, in which case we return that value including a message.\n",
    "\n",
    "However, if that is not the case, we move on to the next checks. The first check makes sure that the left child of the current node is present\n",
    "and if it is, it adds the check of whether the current value is larger than the value that we are searching for. If this statement evaluates to\n",
    "True then we call the ._search() function again but updating our current node to be the left child of the past node we checked (this is the \n",
    "recursive part since the functions calls itself).\n",
    "\n",
    "If those checks did not pass however, we check for the scenario in which there is a child to the right of the current node and the value that is being\n",
    "searched for is smaller than or equal to the current node's value. In that case, we call the ._search() function again but update our current node \n",
    "to be the right child of the node we looked at originally.\n",
    "\n",
    "This algorithm will either continue until it finds a solution and returns it or it will reach a leaf node (node without children), in which case the value\n",
    "we are searching for is not part of the tree and therefore return None.\n",
    "\n",
    "\"\"\""
   ]
  },
  {
   "cell_type": "markdown",
   "metadata": {},
   "source": [
    "## NetworkX\n",
    "\n",
    "In the next step, we will have a look at one of Python's most popular libraries for graphs and trees.\n",
    "You can have a quick look at the [libraries tutorial](https://networkx.org/documentation/stable/tutorial.html) to get an idea on how it works.\n",
    "\n",
    "\n",
    "As a first example, we can initialize a graph object from the adjacency matrix that you have created above.\n",
    "And we will also draw this graph.\n",
    "If this does not work, try to reinstall the packages from above and reboot the notebook.\n",
    "There might be an issue with the *Decorator* package. \n",
    "\n",
    "Afterwards, we will look into creating a tree manually.\n"
   ]
  },
  {
   "cell_type": "code",
   "execution_count": 45,
   "metadata": {},
   "outputs": [
    {
     "data": {
      "image/png": "[encoded data removed]",
      "text/plain": [
       "<Figure size 640x480 with 1 Axes>"
      ]
     },
     "metadata": {},
     "output_type": "display_data"
    }
   ],
   "source": [
    "import networkx as nx\n",
    "import numpy as np\n",
    "\n",
    "G = nx.DiGraph(np.array(adjacency_matrix))\n",
    "nx.draw(G) "
   ]
  },
  {
   "cell_type": "markdown",
   "metadata": {},
   "source": [
    "### Task 4\n",
    "\n",
    "Create a new NetworkX graph and manually add nodes and edges, so that you end up with a full 3-ary tree of depth 2.\n",
    "\n",
    "Afterwards, use the draw function to check, if it worked out."
   ]
  },
  {
   "cell_type": "code",
   "execution_count": 46,
   "metadata": {},
   "outputs": [
    {
     "data": {
      "image/png": "[encoded data removed]",
      "text/plain": [
       "<Figure size 640x480 with 1 Axes>"
      ]
     },
     "metadata": {},
     "output_type": "display_data"
    }
   ],
   "source": [
    "#Put your solution here.\n",
    "from typing import Tuple\n",
    "import networkx as nx\n",
    "G = nx.Graph()\n",
    "\n",
    "# A full 3-ary tree of depth 2 will have a root node (depth 0), from which 3 children will appear (depth 1) and each of those \n",
    "# children will have three children each once more (depth 2)\n",
    "\n",
    "# Nodes is a list that will store each node (from the root through children, through grandchildren)\n",
    "nodes: List[str] = [\n",
    "    'root', 'child1', 'child2', 'child3', \n",
    "    'grandchild1', 'grandchild2', 'grandchild3', \n",
    "    'grandchild4', 'grandchild5', 'grandchild6', \n",
    "    'grandchild7', 'grandchild8', 'grandchild9'\n",
    "]\n",
    "\n",
    "# The edges array, which contains tuples, will create the edges (connections) between each of the nodes that need to have a connection\n",
    "edges: List[Tuple[str]] = [\n",
    "    ('root', 'child1'), ('root', 'child2'), \n",
    "    ('root', 'child3'), ('child1', 'grandchild1'), \n",
    "    ('child1', 'grandchild2'), ('child1', 'grandchild3'), \n",
    "    ('child2', 'grandchild4'), ('child2', 'grandchild5'), \n",
    "    ('child2', 'grandchild6'), ('child3', 'grandchild7'), \n",
    "    ('child3', 'grandchild8'), ('child3', 'grandchild9')\n",
    "]\n",
    "\n",
    "G.add_nodes_from(nodes)\n",
    "G.add_edges_from(edges)\n",
    "\n",
    "# Draw the graph\n",
    "nx.draw(G)"
   ]
  },
  {
   "cell_type": "markdown",
   "metadata": {},
   "source": [
    "### Final Task: Collect all the results\n",
    "\n",
    "Fill in your student number in the variable and then run this cell (and all the cells above) to generate the text file that you have to hand in together with the notebook on canvas!"
   ]
  },
  {
   "cell_type": "code",
   "execution_count": 47,
   "metadata": {},
   "outputs": [],
   "source": [
    "def exportToText(*args):\n",
    "    with open(args[0], \"w\") as f:\n",
    "        for argument in args:\n",
    "            f.write(\"{}\\n\".format(argument))\n",
    "\n",
    "exportToText(\"assignment1.txt\",2824004, dict_graph_explanation, adj_graph_explanation, explain_binary)"
   ]
  }
 ],
 "metadata": {
  "kernelspec": {
   "display_name": "Python 3 (ipykernel)",
   "language": "python",
   "name": "python3"
  },
  "language_info": {
   "codemirror_mode": {
    "name": "ipython",
    "version": 3
   },
   "file_extension": ".py",
   "mimetype": "text/x-python",
   "name": "python",
   "nbconvert_exporter": "python",
   "pygments_lexer": "ipython3",
   "version": "3.11.4"
  }
 },
 "nbformat": 4,
 "nbformat_minor": 4
}
