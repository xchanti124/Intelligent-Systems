{
  "cells": [
    {
      "cell_type": "markdown",
      "metadata": {
        "id": "PiCFh5nd1g08"
      },
      "source": [
        "# Intelligent Systems 2023: 4th practical assignment\n",
        "\n",
        "## The Schnapsen Engine\n",
        "\n",
        "Your name: Chantal Elena Ariu\n",
        "\n",
        "Your VUnetID: car103\n",
        "\n",
        "If you do not provide your name and VUnetID we will not accept your submission.\n",
        "\n",
        "### Learning objectives\n",
        "\n",
        "At the end of this exercise you should be able to use the Schnapsen platform, run basic games between agents, and run tournaments in order to evaluate rational agents (also called bots).\n",
        "\n",
        "1. Understand the main functionality of the Schnapsen platform (playing games and running tournements)\n",
        "2. Implement your own rational agents (bots)\n",
        "\n",
        "### Practicalities\n",
        "\n",
        "Follow this Notebook step-by-step.\n",
        "\n",
        "Of course, you can do the exercises in any Programming Editor of your liking. But you do not have to. Feel free to simply write code in the Notebook. Please use your studentID+Assignment4.ipynb as the name of the Notebook.\n",
        "\n",
        "Note: unlike the courses dedicated to programming we will not evaluate the style of the programs. But we will, however, test your programs on other data that we provide, and your program should give the correct output to the test-data as well.\n",
        "\n",
        "As was mentioned, the assignment is graded as pass/fail. To pass you need to have either a full working code or an explanation of what you tried and what didn't work for the tasks that you were unable to complete (you can use multi-line comments or a text cell).\n",
        "\n",
        "## Initialising\n",
        "\n",
        "First, we have to install the schnapsen python package.\n",
        "Run the below code cell.\n",
        "After running the cell, you have the schnapsen Github repository cloned in your current directory.\n",
        "You can find the new directory created with the name `schnapsen`.\n",
        "The detailed installation instructions can be found in the [README.md](https://github.com/intelligent-systems-course/schnapsen) of the repo."
      ]
    },
    {
      "cell_type": "code",
      "execution_count": 4,
      "metadata": {
        "id": "-pLcmcbO1g1A",
        "outputId": "a7f4e04f-90eb-4c85-c76b-630466bbdd54"
      },
      "outputs": [
        {
          "name": "stdout",
          "output_type": "stream",
          "text": [
            "Cloning into 'schnapsen'...\n",
            "remote: Enumerating objects: 1703, done.\u001b[K\n",
            "remote: Counting objects: 100% (792/792), done.\u001b[K\n",
            "remote: Compressing objects: 100% (266/266), done.\u001b[K\n",
            "remote: Total 1703 (delta 582), reused 588 (delta 502), pack-reused 911\u001b[K\n",
            "Receiving objects: 100% (1703/1703), 2.18 MiB | 3.29 MiB/s, done.\n",
            "Resolving deltas: 100% (943/943), done.\n",
            "Obtaining file:///Users/chantalariu/Documents/Uni/Year%201/P2/Intelligent%20Systems/Assignments/assignment4/schnapsen\n",
            "  Installing build dependencies ... \u001b[?25ldone\n",
            "\u001b[?25h  Checking if build backend supports build_editable ... \u001b[?25ldone\n",
            "\u001b[?25h  Getting requirements to build editable ... \u001b[?25ldone\n",
            "\u001b[?25h  Preparing editable metadata (pyproject.toml) ... \u001b[?25ldone\n",
            "\u001b[?25hRequirement already satisfied: class-resolver>=0.0.10 in /opt/homebrew/lib/python3.11/site-packages (from schnapsen==0.0.3) (0.4.2)\n",
            "Requirement already satisfied: click==8.1.3 in /opt/homebrew/lib/python3.11/site-packages (from schnapsen==0.0.3) (8.1.3)\n",
            "Requirement already satisfied: scikit-learn==1.3.2 in /opt/homebrew/lib/python3.11/site-packages (from schnapsen==0.0.3) (1.3.2)\n",
            "Requirement already satisfied: joblib==1.3.2 in /opt/homebrew/lib/python3.11/site-packages (from schnapsen==0.0.3) (1.3.2)\n",
            "Requirement already satisfied: flask==2.3.3 in /opt/homebrew/lib/python3.11/site-packages (from schnapsen==0.0.3) (2.3.3)\n",
            "Requirement already satisfied: Werkzeug==3.0.1 in /opt/homebrew/lib/python3.11/site-packages (from schnapsen==0.0.3) (3.0.1)\n",
            "Requirement already satisfied: Jinja2>=3.1.2 in /opt/homebrew/lib/python3.11/site-packages (from flask==2.3.3->schnapsen==0.0.3) (3.1.2)\n",
            "Requirement already satisfied: itsdangerous>=2.1.2 in /opt/homebrew/lib/python3.11/site-packages (from flask==2.3.3->schnapsen==0.0.3) (2.1.2)\n",
            "Requirement already satisfied: blinker>=1.6.2 in /opt/homebrew/lib/python3.11/site-packages (from flask==2.3.3->schnapsen==0.0.3) (1.7.0)\n",
            "Requirement already satisfied: numpy<2.0,>=1.17.3 in /opt/homebrew/lib/python3.11/site-packages (from scikit-learn==1.3.2->schnapsen==0.0.3) (1.26.1)\n",
            "Requirement already satisfied: scipy>=1.5.0 in /opt/homebrew/lib/python3.11/site-packages (from scikit-learn==1.3.2->schnapsen==0.0.3) (1.11.3)\n",
            "Requirement already satisfied: threadpoolctl>=2.0.0 in /opt/homebrew/lib/python3.11/site-packages (from scikit-learn==1.3.2->schnapsen==0.0.3) (3.2.0)\n",
            "Requirement already satisfied: MarkupSafe>=2.1.1 in /opt/homebrew/lib/python3.11/site-packages (from Werkzeug==3.0.1->schnapsen==0.0.3) (2.1.3)\n",
            "Building wheels for collected packages: schnapsen\n",
            "  Building editable for schnapsen (pyproject.toml) ... \u001b[?25ldone\n",
            "\u001b[?25h  Created wheel for schnapsen: filename=schnapsen-0.0.3-0.editable-py3-none-any.whl size=16267 sha256=49c6a8baccd26c5ce67f209e9158a04fd05511d00f22ee6b0da5ca1399a0a206\n",
            "  Stored in directory: /private/var/folders/p9/3vhw02td3qzcsm583w1m4mgw0000gn/T/pip-ephem-wheel-cache-mf52ew9l/wheels/0c/72/81/de126054254d472fc19395fded4fa3dc7f577888c5d1152f63\n",
            "Successfully built schnapsen\n",
            "Installing collected packages: schnapsen\n",
            "  Attempting uninstall: schnapsen\n",
            "    Found existing installation: schnapsen 0.0.3\n",
            "    Uninstalling schnapsen-0.0.3:\n",
            "      Successfully uninstalled schnapsen-0.0.3\n",
            "Successfully installed schnapsen-0.0.3\n",
            "\n",
            "\u001b[1m[\u001b[0m\u001b[34;49mnotice\u001b[0m\u001b[1;39;49m]\u001b[0m\u001b[39;49m A new release of pip is available: \u001b[0m\u001b[31;49m23.2.1\u001b[0m\u001b[39;49m -> \u001b[0m\u001b[32;49m23.3.1\u001b[0m\n",
            "\u001b[1m[\u001b[0m\u001b[34;49mnotice\u001b[0m\u001b[1;39;49m]\u001b[0m\u001b[39;49m To update, run: \u001b[0m\u001b[32;49mpython3.11 -m pip install --upgrade pip\u001b[0m\n"
          ]
        }
      ],
      "source": [
        "!rm -rf schnapsen && git clone https://github.com/intelligent-systems-course/schnapsen && cd schnapsen && python3 -m pip install -e . && cd .."
      ]
    },
    {
      "cell_type": "markdown",
      "metadata": {
        "id": "EqUxNBDB1g1D"
      },
      "source": [
        "**You have to restart the kernel so that the Jupyter Notebook knows that it's installed.**"
      ]
    },
    {
      "cell_type": "markdown",
      "metadata": {
        "id": "bsLlvqON1g1E"
      },
      "source": [
        "Now that the schnapsen package is installed, we can import the package, along with the other necessary packages."
      ]
    },
    {
      "cell_type": "code",
      "execution_count": 1,
      "metadata": {
        "id": "GucFiWhI1g1E"
      },
      "outputs": [],
      "source": [
        "import random\n",
        "\n",
        "from schnapsen.bots import RandBot, RdeepBot, MyBot\n",
        "from bully_bot import BullyBot  # This bot is in this assignment directory.\n",
        "from schnapsen.game import SchnapsenGamePlayEngine"
      ]
    },
    {
      "cell_type": "markdown",
      "metadata": {
        "id": "jvI7dE0g1g1E"
      },
      "source": [
        "## Playing the first games\n",
        "\n",
        "The basic engine comes with three basic bots: rand, bully and rdeep (the rest you can ignore for now).\n"
      ]
    },
    {
      "cell_type": "code",
      "execution_count": 11,
      "metadata": {
        "id": "odyy2_Pe1g1F",
        "outputId": "3c27d62a-a155-4f0e-b6fa-70e9499c874b"
      },
      "outputs": [
        {
          "name": "stdout",
          "output_type": "stream",
          "text": [
            "Game ended. Winner is mybot with 2 points and Score(direct_points=75, pending_points=0)\n"
          ]
        }
      ],
      "source": [
        "engine = SchnapsenGamePlayEngine()\n",
        "# choose the players\n",
        "bot1 = RandBot(rand=random.Random(42), name=\"randbot\")\n",
        "bot2 = BullyBot(rand=random.Random(43), name=\"bullybot\")\n",
        "bot3 = RdeepBot(5, 5, rand=random.Random(45), name=\"rdeepbot\")\n",
        "bot4 = MyBot(name=\"mybot\")\n",
        "# winner_id, game_points, score = engine.play_game(bot1, bot2, random.Random(44))/\n",
        "# winner_id, game_points, score = engine.play_game(bot1, bot2, random.Random(44))\n",
        "# winner_id, game_points, score = engine.play_game(bot2, bot3, random.Random(45))\n",
        "winner_id, game_points, score = engine.play_game(bot1, bot4, random.Random(44))\n",
        "\n",
        "# winner_id, game_points, score = engine.play_game(bot2, bot3, random.Random(45))\n",
        "print(f\"Game ended. Winner is {winner_id} with {game_points} points and {score}\")"
      ]
    },
    {
      "cell_type": "markdown",
      "metadata": {
        "id": "YBFJJv3X1g1F"
      },
      "source": [
        "There is a lot of randomness involved in the game when the cards are distributed to the players and the pile. To get an accurate sense of whether one player is better than another, you'll need to play a number of different games. The following code will play a tournament between bully and rand where every pair of participants plays 10 matches.\n",
        "\n",
        "We can fix the randomness by specifying a pseudorandom number generator, e.g., `rand=random.Random(42)`. The seed number 42 here, for example, is used to initialize the pseudorandom number generator."
      ]
    },
    {
      "cell_type": "code",
      "execution_count": 12,
      "metadata": {
        "id": "DUiZZy5k1g1F",
        "outputId": "13aba715-a16f-4c01-bd08-157de9a5e4e5"
      },
      "outputs": [
        {
          "name": "stdout",
          "output_type": "stream",
          "text": [
            "Playing 10 games:\n",
            "Played 1 out of 10 games (10%): {'randbot': 0, 'mybot': 3} \n",
            "Played 2 out of 10 games (20%): {'randbot': 3, 'mybot': 3} \n",
            "Played 3 out of 10 games (30%): {'randbot': 5, 'mybot': 3} \n",
            "Played 4 out of 10 games (40%): {'randbot': 5, 'mybot': 5} \n",
            "Played 5 out of 10 games (50%): {'randbot': 5, 'mybot': 6} \n",
            "Played 6 out of 10 games (60%): {'randbot': 5, 'mybot': 8} \n",
            "Played 7 out of 10 games (70%): {'randbot': 5, 'mybot': 9} \n",
            "Played 8 out of 10 games (80%): {'randbot': 5, 'mybot': 10} \n",
            "Played 9 out of 10 games (90%): {'randbot': 5, 'mybot': 11} \n",
            "Played 10 out of 10 games (100%): {'randbot': 8, 'mybot': 11} \n"
          ]
        }
      ],
      "source": [
        "myrepeats = 10\n",
        "\n",
        "# Create bots.\n",
        "bot1 = RandBot(rand=random.Random(42), name=\"randbot\")\n",
        "bot2 = BullyBot(rand=random.Random(43), name=\"bullybot\")\n",
        "bot3 = RdeepBot(5, 5, rand=random.Random(44), name=\"rdeepbot\")\n",
        "\n",
        "# bots = [bot1, bot2]\n",
        "# bots = [bot1, bot3]\n",
        "# bots = [bot2, bot3]\n",
        "# bots = [bot1, bot2, bot3]\n",
        "bots = [bot1, bot4]\n",
        "\n",
        "n = len(bots)\n",
        "wins = {str(bot): 0 for bot in bots}\n",
        "matches = [(p1, p2) for p1 in range(n) for p2 in range(n) if p1 < p2]\n",
        "\n",
        "totalgames = (n * n - n) / 2 * myrepeats\n",
        "playedgames = 0\n",
        "\n",
        "print(\"Playing {} games:\".format(int(totalgames)))\n",
        "for a, b in matches:\n",
        "    for r in range(myrepeats):\n",
        "        if random.choice([True, False]):\n",
        "            p = [a, b]\n",
        "        else:\n",
        "            p = [b, a]\n",
        "\n",
        "        winner_id, game_points, score = engine.play_game(\n",
        "            bots[p[0]], bots[p[1]], random.Random(45)\n",
        "        )\n",
        "\n",
        "        wins[str(winner_id)] += game_points\n",
        "\n",
        "        playedgames += 1\n",
        "        print(\n",
        "            \"Played {} out of {:.0f} games ({:.0f}%): {} \\r\".format(\n",
        "                playedgames, totalgames, playedgames / float(totalgames) * 100, wins\n",
        "            )\n",
        "        )"
      ]
    },
    {
      "cell_type": "markdown",
      "metadata": {
        "id": "u3HRW2rB1g1G"
      },
      "source": [
        "### Task 1:\n",
        "\n",
        "The previous code runs a tournament between rand and bully, but you can adapt the script by testing the performance of these bots with the third default bot, rdeep, as the opponent. The general idea of rdeep was extensively discussed under the header PIMS (Perfect Information Monte Carlo Sampling). Report in the following Cell on the results you get from two-player tournaments including rdeep, rand and bully (rdeep vs. rand; rdeep vs. bully). Describe which games you played, and who won.\n",
        "\n",
        "_Hint: You only have to add one single line of code._\n"
      ]
    },
    {
      "cell_type": "code",
      "execution_count": 14,
      "metadata": {
        "id": "4-X91teH1g1G"
      },
      "outputs": [],
      "source": [
        "Report1 = \"\"\"\n",
        "1. rdeep vs. rand: rdeep won\n",
        "2. rdeep vs. bully: rdeep won\n",
        "\"\"\""
      ]
    },
    {
      "cell_type": "markdown",
      "metadata": {
        "id": "UGfWeUbj1g1G"
      },
      "source": [
        "### Task 2:\n",
        "\n",
        "The previous code runs a tournament between two bots only, but you can easily adapt the script above to play round-robin tournament. All you have to do is to add a third player to the bots list. Report in the following Cell on the results you get from three-player tournament including rdeep, rand and bully. Add the (non-verbose) output of the script. Report on the results of the tournament and try to explain in your own words what do the results mean.\n",
        "\n",
        "_Hint: You only have to adapt one additional line of code._\n"
      ]
    },
    {
      "cell_type": "code",
      "execution_count": 15,
      "metadata": {
        "id": "UNScXjX11g1H"
      },
      "outputs": [],
      "source": [
        "Report2 = \"\"\"\n",
        "\"Played 30 out of 30 games (100%): {'randbot': 9, 'bullybot': 12, 'rdeepbot': 26}\"\n",
        "\n",
        "This was the last line of the output I got for playing the three-player tournament including rdeep, rand and bully.\n",
        "The output shows that all the games have been played (30 rounds) and that rdeepbot got the highest points with 26 points.\n",
        "Meanwhile randbot managed to get 9 points, and bullybot 12.\n",
        "\"\"\""
      ]
    },
    {
      "cell_type": "markdown",
      "metadata": {
        "id": "git5M_Fr1g1H"
      },
      "source": [
        "## Inspecting the code\n"
      ]
    },
    {
      "cell_type": "markdown",
      "metadata": {
        "id": "-CsWDaJX1g1H"
      },
      "source": [
        "Now let's have a look at how the bots work, by inspecting the schnapsen repository that you have cloned.\n",
        "\n",
        "Let's open [`./schnapsen/src/schnapsen/bots/rand.py`](./schnapsen/src/schnapsen/bots/rand.py)\n",
        "\n",
        "We will use more advanced features of Python than what you have seen so far in Introduction to Python (don’t worry), [so for more details have a look here](https://www.learnpython.org/en/Classes_and_Objects).\n",
        "\n",
        "The rand bot contains nothing but a constructor `__init__()` and one method `get_move()`.\n",
        "\n",
        "These are the only things you have to implement to get a working bot.\n",
        "\n",
        "The constructor `__init__()` requires two arguments: `rand` and `name`.\n",
        "`rand`is to fix the randomness, as explained above, and `name` is the name you want to give to your bot.\n",
        "\n",
        "The method `get_move()` takes two arguments `state` and `leader_move`.\n",
        "`state` is an instance of `PlayerPerspective`, which is the current \"state\" of the Bot.\n",
        "`leader_move` is an instance of `Move`, which is the move that the opponent has made.\n",
        "This is an optinal argument for `RandBot`, since it does not account for the move that the opponent has made.\n",
        "This method chooses a valid move uniformly at random from the list of moves, and return that move.\n",
        "A move can be something like `RegularMove(card=Card.ACE_HEARTS)`.\n",
        "\n",
        "Take a look at `class Move` in [`./schnapsen/src/schnapsen/game.py`](./schnapsen/src/schnapsen/game.py)"
      ]
    },
    {
      "cell_type": "markdown",
      "metadata": {
        "id": "i3mbSKOD1g1H"
      },
      "source": [
        "### [`bully_bot.py`](bully_bot.py)\n",
        "\n",
        "This file can be found locally."
      ]
    },
    {
      "cell_type": "markdown",
      "metadata": {
        "id": "0mJzTj1B1g1H"
      },
      "source": [
        "Bully is a deterministic bot: given the same state it will always do the same thing. We've removed part of the explanation from the comments.\n",
        "\n",
        "### Task 3:\n",
        "\n",
        "Have a look at the code: describe in your own words what strategy does the bully bot use?"
      ]
    },
    {
      "cell_type": "code",
      "execution_count": 16,
      "metadata": {
        "id": "EOKSVZh91g1H"
      },
      "outputs": [],
      "source": [
        "Report3 = \"\"\"\n",
        "This bot uses (as the name suggests) a more assertive, aggressive (\"bully\"-way) of playing.\n",
        "The reason for that is because it plays the trump cards first, \"attacking\" as much as possible from\n",
        "the very beginning. \n",
        "As shown in the code for the bot, it first tries to play any trump cards it has, then it also tries to\n",
        "\"follow the lead\" of the leader (player who first plays in a trick) and if neither conditions are met, the \n",
        "bot will look for the highest scoring card in general regardless of the first two conditions and play that.\n",
        "\"\"\""
      ]
    },
    {
      "cell_type": "markdown",
      "metadata": {
        "id": "r_E8Jmns1g1I"
      },
      "source": [
        "### [`./schnapsen/src/schnapsen/bots/rdeep.py`](./schnapsen/src/schnapsen/bots/rdeep.py)\n",
        "\n",
        "The lectures discuss the hill-climbing strategy: look one move ahead and pick the move that leads to the best heuristic. The heuristics we use is the ratio of the player points w.r.t. to the total points currently assigned in the game. The higher this value, the better the state is for us. Imagine doing hill-climbing with this heuristic. This strategy would not work here. Why not?\n",
        "\n",
        "In order to avoid this issue, we need to look further ahead than the hill climbing strategy does. rdeep.py does this in the simplest way we could think of. Make eight random moves and look at the value of the resulting state. Do this a few times and average the values found. This method is called Perfect-Information Monte-Carlo Sampling (PIMC).\n",
        "\n",
        "You just ran a tournament between rdeep and the other two bots. Most likely, rdeep will have won a few more games. But does the difference really mean rdeep is better? It might just be that rdeep is no better than rand and won by pure luck."
      ]
    },
    {
      "cell_type": "markdown",
      "metadata": {
        "id": "uo4Q_3il1g1I"
      },
      "source": [
        "\n",
        "### Task 4\n",
        "\n",
        "If you wanted to provide scientific evidence that rdeep is better than rand, how would you go about it?"
      ]
    },
    {
      "cell_type": "code",
      "execution_count": 17,
      "metadata": {
        "id": "W4jWqBVT1g1I"
      },
      "outputs": [],
      "source": [
        "Report4 = \"\"\"\n",
        "I think the best way to prove that one bot would be better than the other (in this case rdeep being better than rand)\n",
        "I would suggest systematically creating test-games under controlled setting (equal amount of times in terms of who starts\n",
        "as leader for example) where confounding variables could be controlled. \n",
        "If the tests are extensive enough, they could show a clear causation in terms of which bot causes the wins and which one causes\n",
        "the loss against that bot.\n",
        "\"\"\""
      ]
    },
    {
      "cell_type": "markdown",
      "metadata": {
        "id": "R_NyqRuH1g1I"
      },
      "source": [
        "### `mybot.py`\n",
        "\n",
        "It's time to write your own bot. Think of a simple strategy that is easy to implement. To create the bot follow these steps:\n",
        "\n",
        "1. Go to the directory `./schnapsen/src/schnapsen/bots/`\n",
        "2. Make your bot file, e.g., `mybot.py`\n",
        "3. `mybot.py` should include importing packages, class name, and its methods. If you forgot how to do them. Take a look at [`./schnapsen/src/schnapsen/bots/rand.py`](./schnapsen/src/schnapsen/bots/rand.py) again. Remember that your job is to write the constructor `__init__()` and method `get_move()`. Be creative.\n",
        "4. Open [`./schnapsen/src/schnapsen/bots/__init__.py`](./schnapsen/src/schnapsen/bots/__init__.py). You have to add your bot so that the schnapsen package knows that you have made your own bot. The code is self-explanatory\n",
        "\n",
        "\n",
        "If your bot has parameters (like a search depth, or a pre-programmed probability of doing nothing) you can add these to the constructor.\n",
        "\n",
        "It's always a good practice to read README and docstrings of the schnapsen package that you have cloned to understand how it works.\n",
        "\n",
        "### Task 5\n",
        "\n",
        "Add your implementation of `get_move()` and the result of a tournament against randbot to your report.\n",
        "\n",
        "Please write your code here (in raw text, to avoid an error), as well as the results in the following cell:\n",
        "```py\n",
        "from typing import Optional, List\n",
        "from schnapsen.game import Bot, PlayerPerspective, Move\n",
        "\n",
        "\n",
        "class MyBot(Bot):\n",
        "    def __init__(self, name: Optional[str] = None) -> None:\n",
        "        super().__init__(name)\n",
        "        self.from_front = True\n",
        "\n",
        "    def get_move(\n",
        "        self,\n",
        "        perspective: PlayerPerspective,\n",
        "        leader_move: Optional[Move],\n",
        "    ) -> Move:\n",
        "        available_moves: List[Move] = perspective.valid_moves()\n",
        "\n",
        "        if self.from_front:\n",
        "            naive_move = available_moves[0]\n",
        "        else:\n",
        "            naive_move = available_moves[-1]\n",
        "\n",
        "        self.from_front = not self.from_front\n",
        "\n",
        "        return naive_move\n",
        "```\n"
      ]
    },
    {
      "cell_type": "markdown",
      "metadata": {
        "id": "ybIr3rT41g1I"
      },
      "source": [
        "You had to follow the steps above to have `mybot.py`. Then you would want to tweek the code of rand or do something entirely new. It didn't have to be the case that it wins more than any of the bots, just that it was a new implementation."
      ]
    },
    {
      "cell_type": "code",
      "execution_count": 18,
      "metadata": {
        "id": "t80UMHY01g1I"
      },
      "outputs": [],
      "source": [
        "MyMove1 =\"\"\"\n",
        "Please also write your code, as well as the results here.\n",
        "- My bot alternates between picking the first and the last available move. \n",
        "- It is a naive strategy since it does not consider the current state of the deck\n",
        "  nor the potential best moves\n",
        "\n",
        "Result of one tournament:\n",
        "\"Played 10 out of 10 games (100%): {'randbot': 8, 'mybot': 11}\"\n",
        "\n",
        "- This is a naive and simple strategy to implement a bot, however, against randbot it still stands a chance\n",
        "  of winning as well.\n",
        "\n",
        "\"\"\""
      ]
    },
    {
      "cell_type": "markdown",
      "metadata": {
        "id": "2efXrg3t1g1I"
      },
      "source": [
        "## Final Task: Collect all the results\n",
        "\n",
        "Uncomment and run this cell (and all the cells above) to generate the text file that you have to hand in together with the notebook on canvas!\n",
        "\n",
        "### Please hand in only the text file which is generated by this method!\n"
      ]
    },
    {
      "cell_type": "code",
      "execution_count": 19,
      "metadata": {
        "id": "YNN-7mBQ1g1I"
      },
      "outputs": [],
      "source": [
        "def exportToText(*args):\n",
        "    with open(args[0], \"w\") as f:\n",
        "        for argument in args:\n",
        "            f.write(\"{}\\n\".format(argument))\n",
        "\n",
        "\n",
        "exportToText(\"assignment4.txt\", Report1, Report2, Report3, Report4, MyMove1)"
      ]
    }
  ],
  "metadata": {
    "colab": {
      "provenance": []
    },
    "kernelspec": {
      "display_name": "Python 3 (ipykernel)",
      "language": "python",
      "name": "python3"
    },
    "language_info": {
      "codemirror_mode": {
        "name": "ipython",
        "version": 3
      },
      "file_extension": ".py",
      "mimetype": "text/x-python",
      "name": "python",
      "nbconvert_exporter": "python",
      "pygments_lexer": "ipython3",
      "version": "3.11.4"
    }
  },
  "nbformat": 4,
  "nbformat_minor": 0
}
