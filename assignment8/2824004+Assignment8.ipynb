{
 "cells": [
  {
   "cell_type": "markdown",
   "metadata": {},
   "source": [
    "# Intelligent Systems 2023: Practical Assignment 08\n",
    "\n",
    "\n",
    "Your name: Chantal Elena Ariu\n",
    "\n",
    "Your VUnetID: car103\n",
    "\n",
    "If you do not provide your name and VUnetID we will not accept your submission. \n",
    "\n",
    "### Learning objectives\n",
    "At the end of this exercise you should be able to work with some basic fuzzy concepts, and implement and evaluate a simple probabilistic approach to playing Schnapsen. \n",
    "\n",
    "### Preliminaries\n",
    "\n",
    "In this worksheet we will learn some basics about probability theory.\n",
    "\n",
    "\n",
    "### Practicalities\n",
    "\n",
    "Follow this Notebook step-by-step. \n",
    "\n",
    "Of course, you can do the exercises in any Programming Editor of your liking. But you do not have to. Feel free to simply write code in the Notebook. Please use your studentID+Assignment8.ipynb as the name of the Notebook.  \n",
    "\n",
    "Note: unlike the courses dedicated to programming we will not evaluate the style of the programs. But we will, however, test your programs on other data that we provide, and your program should give the correct output to the test-data as well.\n",
    "\n",
    "As was mentioned, the assignment is graded as pass/fail. To pass you need to have either a full working code or an explanation of what you tried and what didn't work for the tasks that you were unable to complete (you can use multi-line comments or a text cell).\n",
    "\n",
    "## Initialising\n",
    "\n",
    "First, we have to install the schnapsen python package. \n",
    "Run the below code cell.\n",
    "After running the cell, you have the schnapsen Github repository cloned in your current directory.\n",
    "You can find the new directory created with the name `schnapsen`.\n",
    "The detailed installation instructions can be found in the [README.md](https://github.com/intelligent-systems-course/schnapsen) of the repo."
   ]
  },
  {
   "cell_type": "code",
   "execution_count": 1,
   "metadata": {},
   "outputs": [
    {
     "name": "stdout",
     "output_type": "stream",
     "text": [
      "\u001b[33mWARNING: Skipping schnapsen as it is not installed.\u001b[0m\u001b[33m\n",
      "\u001b[0mCloning into 'schnapsen'...\n",
      "remote: Enumerating objects: 1734, done.\u001b[K\n",
      "remote: Counting objects: 100% (823/823), done.\u001b[K\n",
      "remote: Compressing objects: 100% (276/276), done.\u001b[K\n",
      "remote: Total 1734 (delta 602), reused 615 (delta 519), pack-reused 911\u001b[K\n",
      "Receiving objects: 100% (1734/1734), 2.18 MiB | 4.85 MiB/s, done.\n",
      "Resolving deltas: 100% (963/963), done.\n",
      "Obtaining file:///Users/chantalariu/Documents/Uni/Year%201/P2/Intelligent%20Systems/Assignments/assignment8/schnapsen\n",
      "  Installing build dependencies ... \u001b[?25ldone\n",
      "\u001b[?25h  Checking if build backend supports build_editable ... \u001b[?25ldone\n",
      "\u001b[?25h  Getting requirements to build editable ... \u001b[?25ldone\n",
      "\u001b[?25h  Preparing editable metadata (pyproject.toml) ... \u001b[?25ldone\n",
      "\u001b[?25hRequirement already satisfied: class-resolver>=0.0.10 in /opt/homebrew/lib/python3.11/site-packages (from schnapsen==0.0.3) (0.4.2)\n",
      "Requirement already satisfied: click==8.1.3 in /opt/homebrew/lib/python3.11/site-packages (from schnapsen==0.0.3) (8.1.3)\n",
      "Requirement already satisfied: scikit-learn==1.3.2 in /opt/homebrew/lib/python3.11/site-packages (from schnapsen==0.0.3) (1.3.2)\n",
      "Requirement already satisfied: joblib==1.3.2 in /opt/homebrew/lib/python3.11/site-packages (from schnapsen==0.0.3) (1.3.2)\n",
      "Requirement already satisfied: flask==2.3.3 in /opt/homebrew/lib/python3.11/site-packages (from schnapsen==0.0.3) (2.3.3)\n",
      "Requirement already satisfied: Werkzeug==3.0.1 in /opt/homebrew/lib/python3.11/site-packages (from schnapsen==0.0.3) (3.0.1)\n",
      "Requirement already satisfied: Jinja2>=3.1.2 in /opt/homebrew/lib/python3.11/site-packages (from flask==2.3.3->schnapsen==0.0.3) (3.1.2)\n",
      "Requirement already satisfied: itsdangerous>=2.1.2 in /opt/homebrew/lib/python3.11/site-packages (from flask==2.3.3->schnapsen==0.0.3) (2.1.2)\n",
      "Requirement already satisfied: blinker>=1.6.2 in /opt/homebrew/lib/python3.11/site-packages (from flask==2.3.3->schnapsen==0.0.3) (1.7.0)\n",
      "Requirement already satisfied: numpy<2.0,>=1.17.3 in /opt/homebrew/lib/python3.11/site-packages (from scikit-learn==1.3.2->schnapsen==0.0.3) (1.26.1)\n",
      "Requirement already satisfied: scipy>=1.5.0 in /opt/homebrew/lib/python3.11/site-packages (from scikit-learn==1.3.2->schnapsen==0.0.3) (1.11.3)\n",
      "Requirement already satisfied: threadpoolctl>=2.0.0 in /opt/homebrew/lib/python3.11/site-packages (from scikit-learn==1.3.2->schnapsen==0.0.3) (3.2.0)\n",
      "Requirement already satisfied: MarkupSafe>=2.1.1 in /opt/homebrew/lib/python3.11/site-packages (from Werkzeug==3.0.1->schnapsen==0.0.3) (2.1.3)\n",
      "Building wheels for collected packages: schnapsen\n",
      "  Building editable for schnapsen (pyproject.toml) ... \u001b[?25ldone\n",
      "\u001b[?25h  Created wheel for schnapsen: filename=schnapsen-0.0.3-0.editable-py3-none-any.whl size=16268 sha256=e5f304e6afe8b9a6fcc6825f771c3b894f254f4b6af125747b4b837488706457\n",
      "  Stored in directory: /private/var/folders/p9/3vhw02td3qzcsm583w1m4mgw0000gn/T/pip-ephem-wheel-cache-u6s47r78/wheels/a5/6f/77/2fb2b309ad91ac9f17767ccf760bb8fed5ba2519f09dc07566\n",
      "Successfully built schnapsen\n",
      "Installing collected packages: schnapsen\n",
      "  Attempting uninstall: schnapsen\n",
      "    Found existing installation: schnapsen 0.0.3\n",
      "    Uninstalling schnapsen-0.0.3:\n",
      "      Successfully uninstalled schnapsen-0.0.3\n",
      "Successfully installed schnapsen-0.0.3\n",
      "\n",
      "\u001b[1m[\u001b[0m\u001b[34;49mnotice\u001b[0m\u001b[1;39;49m]\u001b[0m\u001b[39;49m A new release of pip is available: \u001b[0m\u001b[31;49m23.2.1\u001b[0m\u001b[39;49m -> \u001b[0m\u001b[32;49m23.3.1\u001b[0m\n",
      "\u001b[1m[\u001b[0m\u001b[34;49mnotice\u001b[0m\u001b[1;39;49m]\u001b[0m\u001b[39;49m To update, run: \u001b[0m\u001b[32;49mpython3.11 -m pip install --upgrade pip\u001b[0m\n"
     ]
    }
   ],
   "source": [
    "# If you are on a UNIX system (Linux or Mac OS)\n",
    "!pip uninstall schnapsen -y && rm -rf schnapsen && git clone https://github.com/intelligent-systems-course/schnapsen && cd schnapsen && python3 -m pip install -e . && cd .."
   ]
  },
  {
   "cell_type": "code",
   "execution_count": null,
   "metadata": {},
   "outputs": [],
   "source": [
    "# If you are on Windows\n",
    "!pip uninstall schnapsen -y rd /s /q schnapsen && git clone https://github.com/intelligent-systems-course/schnapsen && cd schnapsen && pip install -e . && cd .."
   ]
  },
  {
   "cell_type": "markdown",
   "metadata": {},
   "source": [
    "## Probability Theory and Combinatorics"
   ]
  },
  {
   "cell_type": "markdown",
   "metadata": {},
   "source": [
    "### Task 1:\n",
    "\n",
    "In this task, we will work with table that we already used in the lecture.\n",
    "![table](table.png)\n",
    "\n",
    "\n",
    "You are supposed to implement Bayes theorem in its own function. Given the probability P(A), P(B), and P(B|A), you should try to implement a function that prints P(A|B).\n",
    "\n",
    "Use the following probabilities and your Bayes theorem function to compute the probability for P(value>4 = true | diamond):\n",
    "- P(diamond|Value>4=True) = 1/9 \n",
    "- P(heart) = 4/9  \n",
    "- P(Value>4 = False)= 4/9\n",
    "\n",
    "Adapt the code below such that it can compute the bayes probability and run it."
   ]
  },
  {
   "cell_type": "code",
   "execution_count": 7,
   "metadata": {},
   "outputs": [
    {
     "name": "stdout",
     "output_type": "stream",
     "text": [
      "0.5555555555555556\n"
     ]
    },
    {
     "data": {
      "text/plain": [
       "0.5555555555555556"
      ]
     },
     "execution_count": 7,
     "metadata": {},
     "output_type": "execute_result"
    }
   ],
   "source": [
    "def bayes_theorem(p_a, p_b, p_ba):\n",
    "    #please compute p_ab\n",
    "    p_ab = (p_ba * p_a) / p_b\n",
    "    \n",
    "    print(p_ab)\n",
    "    return(p_ab)\n",
    "#run it with the values from above\n",
    "bayes_theorem(5/9, 1/9 ,1/9)"
   ]
  },
  {
   "cell_type": "markdown",
   "metadata": {},
   "source": [
    "### Joint Probability Distributions\n",
    "\n",
    "In the next tasks, we will compute the joint probability distribution for the three random variables: LowCard(L), Diamond(D), and BlackWedding(B).\n",
    "- LowCards is true for either jacks, queens, and kings\n",
    "- Diamond is true for all cards of the suit diamond\n",
    "- BlackWeeding is true for all black queens and kings: QueenSpades, QueenClubs, KingSpades, KingClubs\n",
    "\n",
    "\n",
    "In the following code snippet, for every card of the game, we first define the three properties (L,D,B) as boolean variables.\n",
    "\n",
    "Afterwards, we define a function that creates a random subset of all cards. These are the unknown cards (cards in the tallon and in the opponents hand) in the game.\n",
    "You can hand over a variable k which determines the size of the random cards which are picked from all cards. The random cards are also printed.\n",
    "\n",
    "In the upcoming tasks, we will compute probabilities for different game situations."
   ]
  },
  {
   "cell_type": "code",
   "execution_count": 19,
   "metadata": {},
   "outputs": [
    {
     "name": "stdout",
     "output_type": "stream",
     "text": [
      "TenHearts\n",
      "QueenHearts\n",
      "AceSpades\n",
      "KingClubs\n",
      "KingDiamonds\n",
      "TenDiamonds\n",
      "AceDiamonds\n",
      "AceHearts\n",
      "TenClubs\n",
      "QueenClubs\n",
      "JackSpades\n",
      "JackClubs\n"
     ]
    }
   ],
   "source": [
    "jackHearts = ('JackHearts',True, False, False)\n",
    "jackSpades  = ('JackSpades',True, False, False)\n",
    "jackDiamonds = ('JackDiamonds',True, True, False)\n",
    "jackClubs = ('JackClubs',True, False, False)\n",
    "\n",
    "queenHearts = ('QueenHearts',True, False, False)\n",
    "queenSpades = ('QueenSpades',True, False, True)\n",
    "queenDiamonds = ('QueenDiamonds',True, True, False)\n",
    "queenClubs = ('QueenClubs',True, False, True)\n",
    "\n",
    "kingHearts = ('KingHearts',True, False, False)\n",
    "kingSpades = ('KingSpades',True, False, True)\n",
    "kingDiamonds = ('KingDiamonds',True, True, False)\n",
    "kingClubs = ('KingClubs',True, False, True)\n",
    "\n",
    "tenHearts = ('TenHearts',False, False, False)\n",
    "tenSpades = ('TenSpades',False, False, False)\n",
    "tenDiamonds = ('TenDiamonds',False, True, False)\n",
    "tenClubs = ('TenClubs',False, False, False)\n",
    "\n",
    "aceHearts = ('AceHearts',False, False, False)\n",
    "aceSpades = ('AceSpades',False, False, False)\n",
    "aceDiamonds = ('AceDiamonds',False, True, False)\n",
    "aceClubs = ('AceClubs',False, False, False)\n",
    "\n",
    "allCards = [jackHearts, jackSpades , jackDiamonds, jackClubs, queenHearts, queenSpades, queenDiamonds, queenClubs, kingHearts, kingSpades, kingDiamonds, kingClubs, tenHearts, tenSpades, tenDiamonds, tenClubs, aceHearts, aceSpades, aceDiamonds, aceClubs]\n",
    "\n",
    "import random\n",
    "\n",
    "#number of random cards you want to get from the list\n",
    "k = 12\n",
    "randomCards = random.sample(allCards, k)\n",
    "\n",
    "for card in randomCards:\n",
    "    print(card[0])\n",
    "\n",
    "\n"
   ]
  },
  {
   "cell_type": "markdown",
   "metadata": {},
   "source": [
    "### Task 2\n",
    "\n",
    "In this task, we want to compute the joint probability distribution for the three random variables LowCard(L), Diamond(D), and BlackWedding(B).\n",
    "Instead the distribution for all possible combinations of the random variables, we will code a function which can compute the joint probability for a single combination of random variables.\n",
    "\n",
    "As an example, the you should be able to compute the joint probability P(L=True, D=True, B = False) given a random set of cards.\n",
    "\n",
    "\n",
    "Your task is to complete the next code snippet, such that the function computeJPD computes the joint probability for a random card input and a choice of random variables l,d,b each of them being a boolean variable.\n",
    "\n",
    "*Hint: you probably need more than 1 line of code to do this*\n"
   ]
  },
  {
   "cell_type": "code",
   "execution_count": 26,
   "metadata": {},
   "outputs": [
    {
     "name": "stdout",
     "output_type": "stream",
     "text": [
      "0.16666666666666666\n"
     ]
    },
    {
     "data": {
      "text/plain": [
       "0.16666666666666666"
      ]
     },
     "execution_count": 26,
     "metadata": {},
     "output_type": "execute_result"
    }
   ],
   "source": [
    "def computeJPD(l,d,b,randomCards):\n",
    "    total_matches: int = 0\n",
    "\n",
    "    for card in randomCards:\n",
    "        # if (card[1], card[2], card[3]) == (l, d, b):\n",
    "        if card[1] == l and card[2] == d and card[3] == b:\n",
    "            total_matches += 1 \n",
    "    \n",
    "    joint_probability: float = total_matches / len(randomCards)\n",
    "\n",
    "    print(joint_probability)\n",
    "    return(joint_probability)\n",
    "computeJPD(True, False, True, randomCards)  "
   ]
  },
  {
   "cell_type": "markdown",
   "metadata": {},
   "source": [
    "### Task 3\n",
    "\n",
    "In the next step, we want to compute the probability P(B|I) using the computeJPD function from above. Try to write a  snippet of code and save the computation into the variable p_b_l.\n",
    "\n",
    "Also describe what you did into the MyReport1 variable.\n",
    "\n",
    "*Hint: P(B,) / P(l)*"
   ]
  },
  {
   "cell_type": "code",
   "execution_count": 28,
   "metadata": {},
   "outputs": [
    {
     "name": "stdout",
     "output_type": "stream",
     "text": [
      "0.25\n",
      "0.08333333333333333\n",
      "0.16666666666666666\n",
      "0.16666666666666666\n",
      "0.3333333333333333\n"
     ]
    }
   ],
   "source": [
    "# add your computation here and write a report below\n",
    "p_l = computeJPD(True, False, False, randomCards) + computeJPD(True, True, False, randomCards) + computeJPD(True, False, True, randomCards)\n",
    "p_b_l = computeJPD(True, False, True, randomCards) / p_l\n",
    "\n",
    "print(p_b_l)"
   ]
  },
  {
   "cell_type": "code",
   "execution_count": 29,
   "metadata": {},
   "outputs": [],
   "source": [
    "MyReport1 =\"\"\"\n",
    "In the code cell above we needed to calculate the conditional probability P(B | L), which means we want to know the probability of having a BlackWedding (B) card\n",
    "given that it is a LowCard (L).\n",
    "For this, we can use a version of Baye's Theorem, namely calculating P(B | L) using the following formula: P(A|B) = (P(B,A)) / P(B), where P(A|B) = P(B|L), P(A) = P(B) and P(B) = P(L).\n",
    "In this case, P(B, L) refers to the joint probability of B AND L being true. P(L) refers to the probability of the card being a LowCard (regardless of any other specifiers, like suit or\n",
    "similar). This means that to calculate P(L) we need to sum up the joint probabilities of all the scenarios in which L is true regardless of any suit or color. That is why we have \n",
    "p_l being the sum of the JPD of the scenarios in which it will be true. Then P(L, B) will simply be the JPD when B is true and L is true. If we divide them, as specified in the\n",
    "theorem, we have a calculation of P(B | L).\n",
    "\"\"\""
   ]
  },
  {
   "cell_type": "markdown",
   "metadata": {},
   "source": [
    "## Final Task: Collect all the results\n",
    "\n",
    "Uncomment and run this cell (and all the cells above) to generate the text file that you have to hand in together with the notebook on canvas!\n",
    "\n",
    "### Please hand in only the text file which is generated by this method!"
   ]
  },
  {
   "cell_type": "code",
   "execution_count": 30,
   "metadata": {},
   "outputs": [],
   "source": [
    "import inspect\n",
    "source_cjpd = inspect.getsource(computeJPD)\n",
    "source_bayes_theorem= inspect.getsource(bayes_theorem)\n",
    "\n",
    "def exportToText(*args):\n",
    "    with open(args[0], \"w\") as f:\n",
    "        for argument in args:\n",
    "            f.write(\"{}\\n\".format(argument))\n",
    "\n",
    "\n",
    "exportToText(\"assignment8.txt\", source_cjpd,source_bayes_theorem, MyReport1)\n"
   ]
  }
 ],
 "metadata": {
  "kernelspec": {
   "display_name": "Python 3 (ipykernel)",
   "language": "python",
   "name": "python3"
  },
  "language_info": {
   "codemirror_mode": {
    "name": "ipython",
    "version": 3
   },
   "file_extension": ".py",
   "mimetype": "text/x-python",
   "name": "python",
   "nbconvert_exporter": "python",
   "pygments_lexer": "ipython3",
   "version": "3.11.4"
  }
 },
 "nbformat": 4,
 "nbformat_minor": 4
}
