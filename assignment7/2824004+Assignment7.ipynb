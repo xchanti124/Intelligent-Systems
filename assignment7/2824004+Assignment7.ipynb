{
 "cells": [
  {
   "cell_type": "markdown",
   "metadata": {},
   "source": [
    "# Intelligent Systems 2023: Practical Assignment 07\n",
    "\n",
    "## Schnapsen and Knowledge Graphs\n",
    "\n",
    "Your name: Chantal Ariu\n",
    "\n",
    "Your VUnetID: car103\n",
    "\n",
    "If you do not provide your name and VUnetID we will not accept your submission. \n",
    "\n",
    "### Learning objectives\n",
    "At the end of this exercise you should be able to work with logical agents on the Schnapsen platform\n",
    "\n",
    "1. Learn on how to use a knowledge graph \n",
    "2. Have a first idea on how to use a knowledge graph for playing Schnapsen.\n",
    "\n",
    "### Preliminaries\n",
    "\n",
    "We start building a knowledge graph based agent for playing Schnapsen. The idea is to represent the game and the game states fully in RDF and use queries and logical entailments for getting information.\n",
    "We are not implementing any game play strategy yet.\n",
    "\n",
    "First things first, let's deal with dependencies for using the kb bot, namely numpy and scipy. They should be installed fairly easily via \"pip install numpy\", \"pip install scipy\".\n",
    "Furthermore you need the packages rdflib and owlrl to work with knowledge graphs.\n",
    "rdflib is a in memory database for RDF.\n",
    "owlrl is a reasoning library for RDF-S and OWL which uses rdflib.\n",
    "\n",
    "\n",
    "### Practicalities\n",
    "\n",
    "Follow this Notebook step-by-step. \n",
    "\n",
    "Of course, you can do the exercises in any Programming Editor of your liking. But you do not have to. Feel free to simply write code in the Notebook. Please use your studentID+Assignment7.ipynb as the name of the Notebook.  \n",
    "\n",
    "Note: unlike the courses dedicated to programming we will not evaluate the style of the programs. But we will, however, test your programs on other data that we provide, and your program should give the correct output to the test-data as well.\n",
    "\n",
    "As was mentioned, the assignment is graded as pass/fail. To pass you need to have either a full working code or an explanation of what you tried and what didn't work for the tasks that you were unable to complete (you can use multi-line comments or a text cell).\n",
    "\n",
    "## Initialising\n",
    "\n",
    "First, we have to install the schnapsen python package. \n",
    "Run the below code cell.\n",
    "After running the cell, you have the schnapsen Github repository cloned in your current directory.\n",
    "You can find the new directory created with the name `schnapsen`.\n",
    "The detailed installation instructions can be found in the [README.md](https://github.com/intelligent-systems-course/schnapsen) of the repo."
   ]
  },
  {
   "cell_type": "code",
   "execution_count": 1,
   "metadata": {},
   "outputs": [
    {
     "name": "stdout",
     "output_type": "stream",
     "text": [
      "Found existing installation: schnapsen 0.0.3\n",
      "Uninstalling schnapsen-0.0.3:\n",
      "  Successfully uninstalled schnapsen-0.0.3\n",
      "Cloning into 'schnapsen'...\n",
      "remote: Enumerating objects: 1734, done.\u001b[K\n",
      "remote: Counting objects: 100% (821/821), done.\u001b[K\n",
      "remote: Compressing objects: 100% (270/270), done.\u001b[K\n",
      "remote: Total 1734 (delta 603), reused 619 (delta 523), pack-reused 913\u001b[K\n",
      "Receiving objects: 100% (1734/1734), 2.18 MiB | 2.81 MiB/s, done.\n",
      "Resolving deltas: 100% (966/966), done.\n",
      "Obtaining file:///Users/chantalariu/Documents/Uni/Year%201/P2/Intelligent%20Systems/Assignments/assignment7/schnapsen\n",
      "  Installing build dependencies ... \u001b[?25ldone\n",
      "\u001b[?25h  Checking if build backend supports build_editable ... \u001b[?25ldone\n",
      "\u001b[?25h  Getting requirements to build editable ... \u001b[?25ldone\n",
      "\u001b[?25h  Preparing editable metadata (pyproject.toml) ... \u001b[?25ldone\n",
      "\u001b[?25hRequirement already satisfied: class-resolver>=0.0.10 in /opt/homebrew/lib/python3.11/site-packages (from schnapsen==0.0.3) (0.4.2)\n",
      "Requirement already satisfied: click==8.1.3 in /opt/homebrew/lib/python3.11/site-packages (from schnapsen==0.0.3) (8.1.3)\n",
      "Requirement already satisfied: scikit-learn==1.3.2 in /opt/homebrew/lib/python3.11/site-packages (from schnapsen==0.0.3) (1.3.2)\n",
      "Requirement already satisfied: joblib==1.3.2 in /opt/homebrew/lib/python3.11/site-packages (from schnapsen==0.0.3) (1.3.2)\n",
      "Requirement already satisfied: flask==2.3.3 in /opt/homebrew/lib/python3.11/site-packages (from schnapsen==0.0.3) (2.3.3)\n",
      "Requirement already satisfied: Werkzeug==3.0.1 in /opt/homebrew/lib/python3.11/site-packages (from schnapsen==0.0.3) (3.0.1)\n",
      "Requirement already satisfied: Jinja2>=3.1.2 in /opt/homebrew/lib/python3.11/site-packages (from flask==2.3.3->schnapsen==0.0.3) (3.1.2)\n",
      "Requirement already satisfied: itsdangerous>=2.1.2 in /opt/homebrew/lib/python3.11/site-packages (from flask==2.3.3->schnapsen==0.0.3) (2.1.2)\n",
      "Requirement already satisfied: blinker>=1.6.2 in /opt/homebrew/lib/python3.11/site-packages (from flask==2.3.3->schnapsen==0.0.3) (1.7.0)\n",
      "Requirement already satisfied: numpy<2.0,>=1.17.3 in /opt/homebrew/lib/python3.11/site-packages (from scikit-learn==1.3.2->schnapsen==0.0.3) (1.26.1)\n",
      "Requirement already satisfied: scipy>=1.5.0 in /opt/homebrew/lib/python3.11/site-packages (from scikit-learn==1.3.2->schnapsen==0.0.3) (1.11.3)\n",
      "Requirement already satisfied: threadpoolctl>=2.0.0 in /opt/homebrew/lib/python3.11/site-packages (from scikit-learn==1.3.2->schnapsen==0.0.3) (3.2.0)\n",
      "Requirement already satisfied: MarkupSafe>=2.1.1 in /opt/homebrew/lib/python3.11/site-packages (from Werkzeug==3.0.1->schnapsen==0.0.3) (2.1.3)\n",
      "Building wheels for collected packages: schnapsen\n",
      "  Building editable for schnapsen (pyproject.toml) ... \u001b[?25ldone\n",
      "\u001b[?25h  Created wheel for schnapsen: filename=schnapsen-0.0.3-0.editable-py3-none-any.whl size=16265 sha256=02e43a469e409890873e5fd2dfed8682a6b19ca333a4b465c8be73642f21702f\n",
      "  Stored in directory: /private/var/folders/p9/3vhw02td3qzcsm583w1m4mgw0000gn/T/pip-ephem-wheel-cache-1vmhjl1i/wheels/4c/09/4b/6f661acc7bfcd066f9520d2ee39648c53d41354eaa0baf12e6\n",
      "Successfully built schnapsen\n",
      "Installing collected packages: schnapsen\n",
      "Successfully installed schnapsen-0.0.3\n",
      "\n",
      "\u001b[1m[\u001b[0m\u001b[34;49mnotice\u001b[0m\u001b[1;39;49m]\u001b[0m\u001b[39;49m A new release of pip is available: \u001b[0m\u001b[31;49m23.2.1\u001b[0m\u001b[39;49m -> \u001b[0m\u001b[32;49m23.3.1\u001b[0m\n",
      "\u001b[1m[\u001b[0m\u001b[34;49mnotice\u001b[0m\u001b[1;39;49m]\u001b[0m\u001b[39;49m To update, run: \u001b[0m\u001b[32;49mpython3.11 -m pip install --upgrade pip\u001b[0m\n"
     ]
    }
   ],
   "source": [
    "# If you are on a UNIX system (Linux or Mac OS)\n",
    "!python3 -m pip uninstall schnapsen -y && rm -rf schnapsen && git clone https://github.com/intelligent-systems-course/schnapsen && cd schnapsen && python3 -m pip install -e . && cd .."
   ]
  },
  {
   "cell_type": "code",
   "execution_count": null,
   "metadata": {},
   "outputs": [],
   "source": [
    "# If you are on Windows\n",
    "!pip uninstall schnapsen -y rd /s /q schnapsen && git clone https://github.com/intelligent-systems-course/schnapsen && cd schnapsen && pip install -e . && cd .."
   ]
  },
  {
   "cell_type": "markdown",
   "metadata": {},
   "source": [
    "# Playing Schnapsen with a Knowledge Graph\n",
    "\n",
    "As demonstrated during the lecture, we can model Schnapsen also as a basic knowledge graph using RDF and RDF-S.\n",
    "In the following tasks, we will built a small knowledge graph which models a Schnapsen game using the two Python libraries rdflib and owl-rl."
   ]
  },
  {
   "cell_type": "markdown",
   "metadata": {},
   "source": [
    "In this first code snippet, we will create an ontology modelling Schnapsen similar to the one we have introduced in the lecture.\n",
    "We will use the triple store library rdflib to model our knowledge graph."
   ]
  },
  {
   "cell_type": "code",
   "execution_count": 2,
   "metadata": {},
   "outputs": [
    {
     "name": "stdout",
     "output_type": "stream",
     "text": [
      "Requirement already satisfied: rdflib in /opt/homebrew/lib/python3.11/site-packages (7.0.0)\n",
      "Requirement already satisfied: owlrl in /opt/homebrew/lib/python3.11/site-packages (6.0.2)\n",
      "Requirement already satisfied: isodate<0.7.0,>=0.6.0 in /opt/homebrew/lib/python3.11/site-packages (from rdflib) (0.6.1)\n",
      "Requirement already satisfied: pyparsing<4,>=2.1.0 in /opt/homebrew/lib/python3.11/site-packages (from rdflib) (3.1.1)\n",
      "Requirement already satisfied: six in /opt/homebrew/lib/python3.11/site-packages (from isodate<0.7.0,>=0.6.0->rdflib) (1.16.0)\n",
      "\n",
      "\u001b[1m[\u001b[0m\u001b[34;49mnotice\u001b[0m\u001b[1;39;49m]\u001b[0m\u001b[39;49m A new release of pip is available: \u001b[0m\u001b[31;49m23.2.1\u001b[0m\u001b[39;49m -> \u001b[0m\u001b[32;49m23.3.1\u001b[0m\n",
      "\u001b[1m[\u001b[0m\u001b[34;49mnotice\u001b[0m\u001b[1;39;49m]\u001b[0m\u001b[39;49m To update, run: \u001b[0m\u001b[32;49mpython3.11 -m pip install --upgrade pip\u001b[0m\n"
     ]
    }
   ],
   "source": [
    "# Install the dependencies\n",
    "!python3 -m pip install rdflib owlrl"
   ]
  },
  {
   "cell_type": "code",
   "execution_count": 3,
   "metadata": {},
   "outputs": [
    {
     "data": {
      "text/plain": [
       "<Graph identifier=N1397a23e1b694633813b948bb931aa5e (<class 'rdflib.graph.Graph'>)>"
      ]
     },
     "execution_count": 3,
     "metadata": {},
     "output_type": "execute_result"
    }
   ],
   "source": [
    "from rdflib import Graph, Literal, Namespace\n",
    "from rdflib.namespace import RDF, RDFS\n",
    "\n",
    "g = Graph()\n",
    "s = Namespace(\"http://schnapsen.org/\")\n",
    "\n",
    "\n",
    "\n",
    "#suits\n",
    "g.add((s.Hearts, RDFS.subClassOf, s.Card))\n",
    "g.add((s.Spades, RDFS.subClassOf, s.Card))\n",
    "g.add((s.Diamonds, RDFS.subClassOf, s.Card))\n",
    "g.add((s.Clubs, RDFS.subClassOf, s.Card))\n",
    "\n",
    "#ranks\n",
    "g.add((s.Jack, RDFS.subClassOf, s.Card))\n",
    "g.add((s.Queen, RDFS.subClassOf, s.Card))\n",
    "g.add((s.King, RDFS.subClassOf, s.Card))\n",
    "g.add((s.Ten, RDFS.subClassOf, s.Card))\n",
    "g.add((s.Ace, RDFS.subClassOf, s.Card))\n",
    "      \n",
    "\n",
    "#information about cards\n",
    "g.add((s.JackHearts, RDF.type, s.Hearts))\n",
    "g.add((s.JackHearts, RDF.type, s.Jack))\n",
    "g.add((s.JackHearts, s.value, Literal('2')))\n",
    "\n",
    "g.add((s.JackSpades, RDF.type, s.Spades))\n",
    "g.add((s.JackSpades, RDF.type, s.Jack))\n",
    "g.add((s.JackSpades, s.value, Literal('2')))\n",
    "\n",
    "g.add((s.JackDiamonds, RDF.type, s.Diamonds))\n",
    "g.add((s.JackDiamonds, RDF.type, s.Jack))\n",
    "g.add((s.JackDiamonds, s.value, Literal('2')))\n",
    "\n",
    "g.add((s.JackClubs, RDF.type, s.Clubs))\n",
    "g.add((s.JackClubs, RDF.type, s.Jack))\n",
    "g.add((s.JackClubs, s.value, Literal('2')))\n",
    "\n",
    "g.add((s.QueenHearts, RDF.type, s.Hearts))\n",
    "g.add((s.QueenHearts, RDF.type, s.Queen))\n",
    "g.add((s.QueenHearts, s.value, Literal('3')))\n",
    "\n",
    "g.add((s.QueenSpades, RDF.type, s.Spades))\n",
    "g.add((s.QueenSpades, RDF.type, s.Queen))\n",
    "g.add((s.QueenSpades, s.value, Literal('3')))\n",
    "\n",
    "g.add((s.QueenDiamonds, RDF.type, s.Diamonds))\n",
    "g.add((s.QueenDiamonds, RDF.type, s.Queen))\n",
    "g.add((s.QueenDiamonds, s.value, Literal('3')))\n",
    "\n",
    "g.add((s.QueenClubs, RDF.type, s.Clubs))\n",
    "g.add((s.QueenClubs, RDF.type, s.Queen))\n",
    "g.add((s.QueenClubs, s.value, Literal('3')))\n",
    "\n",
    "g.add((s.KingHearts, RDF.type, s.Hearts))\n",
    "g.add((s.KingHearts, RDF.type, s.King))\n",
    "g.add((s.KingHearts, s.value, Literal('4')))\n",
    "\n",
    "g.add((s.KingSpades, RDF.type, s.Spades))\n",
    "g.add((s.KingSpades, RDF.type, s.King))\n",
    "g.add((s.KingSpades, s.value, Literal('4')))\n",
    "\n",
    "g.add((s.KingDiamonds, RDF.type, s.Diamonds))\n",
    "g.add((s.KingDiamonds, RDF.type, s.King))\n",
    "g.add((s.KingDiamonds, s.value, Literal('4')))\n",
    "\n",
    "g.add((s.KingClubs, RDF.type, s.Clubs))\n",
    "g.add((s.KingClubs, RDF.type, s.King))\n",
    "g.add((s.KingClubs, s.value, Literal('4')))\n",
    "\n",
    "\n",
    "g.add((s.AceHearts, RDF.type, s.Hearts))\n",
    "g.add((s.AceHearts, RDF.type, s.Ace))\n",
    "g.add((s.AceHearts, s.value, Literal('11')))\n",
    "\n",
    "g.add((s.AceSpades, RDF.type, s.Spades))\n",
    "g.add((s.AceSpades, RDF.type, s.Ace))\n",
    "g.add((s.AceSpades, s.value, Literal('11')))\n",
    "\n",
    "g.add((s.AceDiamonds, RDF.type, s.Diamonds))\n",
    "g.add((s.AceDiamonds, RDF.type, s.Ace))\n",
    "g.add((s.AceDiamonds, s.value, Literal('11')))\n",
    "\n",
    "g.add((s.AceClubs, RDF.type, s.Clubs))\n",
    "g.add((s.AceClubs, RDF.type, s.Ace))\n",
    "g.add((s.AceClubs, s.value, Literal('11')))\n",
    "\n",
    "\n",
    "\n",
    "\n",
    "#additional information about the game \n",
    "\n",
    "g.add((s.Jack, RDFS.subClassOf, s.CheapCard))\n",
    "g.add((s.Ace, RDFS.subClassOf, s.ExpensiveCard))\n",
    "      \n"
   ]
  },
  {
   "cell_type": "markdown",
   "metadata": {},
   "source": [
    "### Task 1: \n",
    "\n",
    "The ontology that we have shown above is similar to the one that we have started modelling in the lecture. However, some cards of our Schnapsen game are not modelled yet.\n",
    "Please add knowledge about the missing cards to the knowledge graph analogously to above. \n",
    "\n"
   ]
  },
  {
   "cell_type": "code",
   "execution_count": 4,
   "metadata": {},
   "outputs": [
    {
     "data": {
      "text/plain": [
       "<Graph identifier=N1397a23e1b694633813b948bb931aa5e (<class 'rdflib.graph.Graph'>)>"
      ]
     },
     "execution_count": 4,
     "metadata": {},
     "output_type": "execute_result"
    }
   ],
   "source": [
    "\n",
    "g.add((s.TenHearts, RDF.type, s.Hearts))\n",
    "g.add((s.TenHearts, RDF.type, s.Ten))\n",
    "g.add((s.TenHearts, s.value, Literal('10')))\n",
    "\n",
    "g.add((s.TenSpades, RDF.type, s.Spades))\n",
    "g.add((s.TenSpades, RDF.type, s.Ten))\n",
    "g.add((s.TenSpades, s.value, Literal('10')))\n",
    "\n",
    "g.add((s.TenDiamonds, RDF.type, s.Diamonds))\n",
    "g.add((s.TenDiamonds, RDF.type, s.Ten))\n",
    "g.add((s.TenDiamonds, s.value, Literal('10')))\n",
    "\n",
    "g.add((s.TenClubs, RDF.type, s.Clubs))\n",
    "g.add((s.TenClubs, RDF.type, s.Ten))\n",
    "g.add((s.TenClubs, s.value, Literal('10')))"
   ]
  },
  {
   "cell_type": "code",
   "execution_count": 5,
   "metadata": {},
   "outputs": [],
   "source": [
    "MyCode1 = \"\"\"\n",
    "g.add((s.TenHearts, RDF.type, s.Hearts))\n",
    "g.add((s.TenHearts, RDF.type, s.Ten))\n",
    "g.add((s.TenHearts, s.value, Literal('10')))\n",
    "\n",
    "g.add((s.TenSpades, RDF.type, s.Spades))\n",
    "g.add((s.TenSpades, RDF.type, s.Ten))\n",
    "g.add((s.TenSpades, s.value, Literal('10')))\n",
    "\n",
    "g.add((s.TenDiamonds, RDF.type, s.Diamonds))\n",
    "g.add((s.TenDiamonds, RDF.type, s.Ten))\n",
    "g.add((s.TenDiamonds, s.value, Literal('10')))\n",
    "\n",
    "g.add((s.TenClubs, RDF.type, s.Clubs))\n",
    "g.add((s.TenClubs, RDF.type, s.Ten))\n",
    "g.add((s.TenClubs, s.value, Literal('10')))\n",
    "\"\"\""
   ]
  },
  {
   "cell_type": "markdown",
   "metadata": {},
   "source": [
    "Additionally, we need information about the current game and the game state.\n",
    "This involves the following additional things that we model using classes in a knowledge graph. \n",
    "- current trump card\n",
    "- the tallon\n",
    "- both players hands\n",
    "- both players tricks\n",
    "\n",
    "(*This list is not complete.*)\n",
    "\n"
   ]
  },
  {
   "cell_type": "code",
   "execution_count": 6,
   "metadata": {},
   "outputs": [
    {
     "data": {
      "text/plain": [
       "<Graph identifier=N1397a23e1b694633813b948bb931aa5e (<class 'rdflib.graph.Graph'>)>"
      ]
     },
     "execution_count": 6,
     "metadata": {},
     "output_type": "execute_result"
    }
   ],
   "source": [
    "from rdflib import Seq, Bag\n",
    "\n",
    "#additional information about the gameplay\n",
    "\n",
    "#trump\n",
    "g.add((s.Spades, RDFS.subClassOf, s.TrumpSuit))\n",
    "g.add((s.JackSpades, RDF.type, s.TrumpCard))\n",
    "\n",
    "#tallon\n",
    "tallon = Seq(g, s.tallon)\n",
    "tallon.append(s.AceClubs)\n",
    "tallon.append(s.TenHearts)\n",
    "tallon.append(s.JackDiamonds)\n",
    "tallon.append(s.AceDiamonds)\n",
    "tallon.append(s.JackClubs)\n",
    "tallon.append(s.QueenHearts)\n",
    "tallon.append(s.KingHearts)\n",
    "tallon.append(s.TenSpades)\n",
    "tallon.append(s.TenClubs)\n",
    "\n",
    "#Player 1\n",
    "g.add((s.JackHearts, RDF.type, s.player1))\n",
    "g.add((s.AceHearts, RDF.type, s.player1))\n",
    "g.add((s.QueenSpades, RDF.type, s.player1))\n",
    "\n",
    "\n",
    "#Player 2\n",
    "g.add((s.AceSpades, RDF.type, s.player2))\n",
    "g.add((s.KingSpades, RDF.type, s.player2))\n",
    "g.add((s.QueenDiamonds, RDF.type, s.player2))\n",
    "\n",
    "\n",
    "#Cards won by Player 1\n",
    "g.add((s.TenDiamonds, RDF.type, s.wonPlayer1))\n",
    "g.add((s.KingDiamonds, RDF.type, s.wonPlayer1))\n",
    "\n",
    "#Cards won by Player 2\n",
    "g.add((s.KingClubs, RDF.type, s.wonPlayer2))\n",
    "g.add((s.QueenClubs, RDF.type, s.wonPlayer2))\n",
    "\n",
    "\n",
    "\n",
    "\n"
   ]
  },
  {
   "cell_type": "markdown",
   "metadata": {},
   "source": [
    "We are now able to perform a simple query on the knowledge graph to get information from the knowledge graph. In this example, we retrieve the cards from the hand of player 1 by using a SPARQL query."
   ]
  },
  {
   "cell_type": "code",
   "execution_count": 7,
   "metadata": {},
   "outputs": [
    {
     "name": "stdout",
     "output_type": "stream",
     "text": [
      "Result: (rdflib.term.URIRef('http://schnapsen.org/JackHearts'),)\n",
      "Result: (rdflib.term.URIRef('http://schnapsen.org/AceHearts'),)\n",
      "Result: (rdflib.term.URIRef('http://schnapsen.org/QueenSpades'),)\n"
     ]
    }
   ],
   "source": [
    "result = g.query(\"\"\"\n",
    "PREFIX s: <http://schnapsen.org/>\n",
    "PREFIX rdf: <http://www.w3.org/1999/02/22-rdf-syntax-ns#>\n",
    "SELECT ?card \n",
    "WHERE {\n",
    "     ?card rdf:type s:player1\n",
    "} \n",
    "\"\"\")\n",
    "\n",
    "for row in result:\n",
    "    print('Result: {}'.format(row))"
   ]
  },
  {
   "cell_type": "markdown",
   "metadata": {},
   "source": [
    "### Task 2 \n",
    "As a next task, we want get all cards of player 2 using a SPARQL query similar to before. Adapt the previous query.\n",
    "\n",
    "*Hint: You can copy the code from above and only need to change a single line.*"
   ]
  },
  {
   "cell_type": "code",
   "execution_count": 8,
   "metadata": {},
   "outputs": [
    {
     "name": "stdout",
     "output_type": "stream",
     "text": [
      "Result: (rdflib.term.URIRef('http://schnapsen.org/AceSpades'),)\n",
      "Result: (rdflib.term.URIRef('http://schnapsen.org/KingSpades'),)\n",
      "Result: (rdflib.term.URIRef('http://schnapsen.org/QueenDiamonds'),)\n"
     ]
    }
   ],
   "source": [
    "result = g.query(\"\"\"\n",
    "PREFIX s: <http://schnapsen.org/>\n",
    "PREFIX rdf: <http://www.w3.org/1999/02/22-rdf-syntax-ns#>\n",
    "SELECT ?card \n",
    "WHERE {\n",
    "     ?card rdf:type s:player2\n",
    "} \n",
    "\"\"\")\n",
    "\n",
    "for row in result:\n",
    "    print('Result: {}'.format(row))"
   ]
  },
  {
   "cell_type": "markdown",
   "metadata": {},
   "source": [
    "### Task 3\n",
    "\n",
    "You are supposed to take the position of Player 1. Try to complete the following query such that all cards which are known to Player 1 are returned.\n",
    "\n",
    "*Hint: You need to change 2 lines in the query.*"
   ]
  },
  {
   "cell_type": "code",
   "execution_count": 9,
   "metadata": {},
   "outputs": [
    {
     "name": "stdout",
     "output_type": "stream",
     "text": [
      "Result: (rdflib.term.URIRef('http://schnapsen.org/JackHearts'),)\n",
      "Result: (rdflib.term.URIRef('http://schnapsen.org/AceHearts'),)\n",
      "Result: (rdflib.term.URIRef('http://schnapsen.org/QueenSpades'),)\n",
      "Result: (rdflib.term.URIRef('http://schnapsen.org/JackSpades'),)\n",
      "Result: (rdflib.term.URIRef('http://schnapsen.org/JackSpades'),)\n"
     ]
    }
   ],
   "source": [
    "result = g.query(\"\"\"\n",
    "PREFIX s: <http://schnapsen.org/>\n",
    "PREFIX rdf: <http://www.w3.org/1999/02/22-rdf-syntax-ns#>\n",
    "\n",
    "SELECT ?card \n",
    "WHERE {\n",
    "    {?card rdf:type s:player1}\n",
    "    UNION\n",
    "    {?card rdf:type s:TrumpCard}\n",
    "    UNION\n",
    "    {?card rdf:type s:TrumpCard}\n",
    "    UNION\n",
    "    {?card rdf:type/rdf:rest*/rdf:first s:tallon} \n",
    "} \n",
    "\"\"\")\n",
    "\n",
    "for row in result:\n",
    "    print('Result: {}'.format(row))"
   ]
  },
  {
   "cell_type": "markdown",
   "metadata": {},
   "source": [
    "## Entailment\n",
    "\n",
    "So far, we have only worked with simple SPARQL queries to get information about the current game state from our knowledge graph.\n",
    "We will extend this idea now to work with RDF-S entailments.\n",
    "\n",
    "Run the two following cells.\n",
    "\n",
    "*Hint: It is important to run them in the right order: first the cell at the top than the other one.*"
   ]
  },
  {
   "cell_type": "code",
   "execution_count": 10,
   "metadata": {},
   "outputs": [],
   "source": [
    "result = g.query(\"\"\"\n",
    "PREFIX s: <http://schnapsen.org/>\n",
    "SELECT ?card\n",
    "WHERE{\n",
    "    ?card rdf:type s:Card .\n",
    "} \n",
    "\"\"\")\n",
    "\n",
    "for row in result:\n",
    "    print('Result: {}'.format(row))"
   ]
  },
  {
   "cell_type": "code",
   "execution_count": 11,
   "metadata": {},
   "outputs": [
    {
     "name": "stdout",
     "output_type": "stream",
     "text": [
      "Result: (rdflib.term.URIRef('http://schnapsen.org/TenSpades'),)\n",
      "Result: (rdflib.term.URIRef('http://schnapsen.org/AceHearts'),)\n",
      "Result: (rdflib.term.URIRef('http://schnapsen.org/QueenClubs'),)\n",
      "Result: (rdflib.term.URIRef('http://schnapsen.org/TenDiamonds'),)\n",
      "Result: (rdflib.term.URIRef('http://schnapsen.org/JackClubs'),)\n",
      "Result: (rdflib.term.URIRef('http://schnapsen.org/KingDiamonds'),)\n",
      "Result: (rdflib.term.URIRef('http://schnapsen.org/KingClubs'),)\n",
      "Result: (rdflib.term.URIRef('http://schnapsen.org/QueenHearts'),)\n",
      "Result: (rdflib.term.URIRef('http://schnapsen.org/JackHearts'),)\n",
      "Result: (rdflib.term.URIRef('http://schnapsen.org/TenClubs'),)\n",
      "Result: (rdflib.term.URIRef('http://schnapsen.org/KingSpades'),)\n",
      "Result: (rdflib.term.URIRef('http://schnapsen.org/AceSpades'),)\n",
      "Result: (rdflib.term.URIRef('http://schnapsen.org/TenHearts'),)\n",
      "Result: (rdflib.term.URIRef('http://schnapsen.org/QueenSpades'),)\n",
      "Result: (rdflib.term.URIRef('http://schnapsen.org/JackDiamonds'),)\n",
      "Result: (rdflib.term.URIRef('http://schnapsen.org/AceDiamonds'),)\n",
      "Result: (rdflib.term.URIRef('http://schnapsen.org/JackSpades'),)\n",
      "Result: (rdflib.term.URIRef('http://schnapsen.org/QueenDiamonds'),)\n",
      "Result: (rdflib.term.URIRef('http://schnapsen.org/AceClubs'),)\n",
      "Result: (rdflib.term.URIRef('http://schnapsen.org/KingHearts'),)\n"
     ]
    }
   ],
   "source": [
    "import owlrl\n",
    "\n",
    "rdfs = owlrl.RDFSClosure.RDFS_Semantics(g, False, False, False)\n",
    "rdfs.closure()\n",
    "\n",
    "result = g.query(\"\"\"\n",
    "PREFIX s: <http://schnapsen.org/>\n",
    "SELECT ?card\n",
    "WHERE{\n",
    "    ?card rdf:type s:Card .\n",
    "} \n",
    "\"\"\")\n",
    "\n",
    "for row in result:\n",
    "    print('Result: {}'.format(row))\n",
    "    \n"
   ]
  },
  {
   "cell_type": "markdown",
   "metadata": {},
   "source": [
    "### Task 4:\n",
    "\n",
    "The last two code cells have shown you two identical queries. But one of them uses RDF-S entailments on the classes, the other one is not.\n",
    "\n",
    "Please explain in your own words, what RDF-S entailment is and why the result set is different between both queries.\n"
   ]
  },
  {
   "cell_type": "code",
   "execution_count": 12,
   "metadata": {},
   "outputs": [],
   "source": [
    "#Put your explanation here\n",
    "Report1=\"\"\"\n",
    "RDF-S entailment basically can do the same thing as SPARQL by using a library (owlrl) to calculate the \n",
    "closure graph. So I see RDF-S entailment as an expansion of SPARQL because it can everything and more, namely\n",
    "it can spot additional triples that are implied but not explicitly stated. This is why the set of results is\n",
    "different, since SPARQL only includes triples that are explicitly stated in our graph while RDF-S checks for\n",
    "logical implication on top of explit statement.\n",
    "\"\"\""
   ]
  },
  {
   "cell_type": "markdown",
   "metadata": {},
   "source": [
    "## Final Task: Collect all the results\n",
    "\n",
    "Uncomment and run this cell (and all the cells above) to generate the text file that you have to hand in together with the notebook on canvas!\n",
    "\n",
    "### Please hand in only the text file which is generated by this method!"
   ]
  },
  {
   "cell_type": "code",
   "execution_count": 13,
   "metadata": {},
   "outputs": [],
   "source": [
    "# from utils import *\n",
    "# exportToText(\"assignment7.txt\", MyCode1, Report1)\n",
    "\n",
    "def exportToText(*args):\n",
    "    with open(args[0], \"w\") as f:\n",
    "        for argument in args:\n",
    "            f.write(\"{}\\n\".format(argument))\n",
    "\n",
    "\n",
    "exportToText(\"assignment7.txt\", MyCode1, Report1)"
   ]
  }
 ],
 "metadata": {
  "kernelspec": {
   "display_name": "Python 3 (ipykernel)",
   "language": "python",
   "name": "python3"
  },
  "language_info": {
   "codemirror_mode": {
    "name": "ipython",
    "version": 3
   },
   "file_extension": ".py",
   "mimetype": "text/x-python",
   "name": "python",
   "nbconvert_exporter": "python",
   "pygments_lexer": "ipython3",
   "version": "3.11.4"
  }
 },
 "nbformat": 4,
 "nbformat_minor": 4
}
