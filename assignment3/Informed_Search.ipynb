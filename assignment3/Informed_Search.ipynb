{
  "cells": [
    {
      "cell_type": "markdown",
      "metadata": {
        "id": "iSRsO-sd06U9"
      },
      "source": [
        "# Intelligent Systems 2023: 3rd practical assignment\n",
        "## Informed Search"
      ]
    },
    {
      "cell_type": "markdown",
      "metadata": {
        "id": "GM-Imf6V06VB"
      },
      "source": [
        "Your name: Chantal Elena Ariu\n",
        "\n",
        "Your VUNetID: car103\n",
        "\n",
        "If you do not provide your name and VUNetID we will not accept your submission.\n",
        "\n",
        "### Learning objectives\n",
        "At the end of this exercise you should be able to understand the implementations of the basic algorithms for informed search. You should be able to:\n",
        "\n",
        "1. Understand the algorithms (be able to explain in your own words)\n",
        "2. Follow the individual steps of the algorithms\n",
        "3. Make small modifications of the code to see the effect on the search algorithms\n",
        "4. Make small adaptations to the algorithm to study the computational properties\n",
        "\n",
        "### Practicalities\n",
        "\n",
        "Follow this Notebook step-by-step.\n",
        "\n",
        "Of course, you can do the exercises in any Programming Editor of your liking.\n",
        "But you do not have to. Feel free to simply write code in the Notebook. Please use your studentID+Assignment2.ipynb as the name of the\n",
        "Notebook.  \n",
        "\n",
        "Note: unlike the courses dedicated to programming we will not evaluate the style of the programs. But we will, however, test your programs on other data that we provide, and your program should give the correct output to the test-data as well.\n",
        "\n",
        "As was mentioned, the assignment is graded as pass/fail. To pass you need to have either a full working code or an explanation of what you tried and what didn't work for the tasks that you were unable to complete (you can use multi-line comments or a text cell).\n",
        "\n",
        "## Initialising\n",
        "\n",
        "First, let us make sure the necessary packages are installed, and imported. Run the following code:"
      ]
    },
    {
      "cell_type": "code",
      "execution_count": 1,
      "metadata": {
        "id": "rrqavTvy06VC"
      },
      "outputs": [
        {
          "name": "stdout",
          "output_type": "stream",
          "text": [
            "Requirement already satisfied: numpy in /opt/homebrew/lib/python3.11/site-packages (1.26.1)\n",
            "\n",
            "\u001b[1m[\u001b[0m\u001b[34;49mnotice\u001b[0m\u001b[1;39;49m]\u001b[0m\u001b[39;49m A new release of pip is available: \u001b[0m\u001b[31;49m23.2.1\u001b[0m\u001b[39;49m -> \u001b[0m\u001b[32;49m23.3.1\u001b[0m\n",
            "\u001b[1m[\u001b[0m\u001b[34;49mnotice\u001b[0m\u001b[1;39;49m]\u001b[0m\u001b[39;49m To update, run: \u001b[0m\u001b[32;49mpython3.11 -m pip install --upgrade pip\u001b[0m\n"
          ]
        }
      ],
      "source": [
        "import sys\n",
        "!{sys.executable} -m pip install numpy\n",
        "import datetime\n",
        "import functools\n",
        "import heapq\n",
        "import numpy as np\n",
        "from numpy import random\n",
        "from collections import deque\n",
        "\n",
        "from utils import *\n",
        "\n",
        "# This might produce a warning that numpy is already installed."
      ]
    },
    {
      "cell_type": "markdown",
      "metadata": {
        "id": "XcCuMrG406VD"
      },
      "source": [
        "## Starting your first game"
      ]
    },
    {
      "cell_type": "code",
      "execution_count": 31,
      "metadata": {
        "id": "F29sVKJ-06VD"
      },
      "outputs": [],
      "source": [
        "HAND_SIZE = 5      #TODO: replace with your desired hand size (3, 5 or 10)\n",
        "STUDENT_NUMBER = 2824004 #TODO: replace with your own student number"
      ]
    },
    {
      "cell_type": "markdown",
      "metadata": {
        "id": "-lHvBPSo06VE"
      },
      "source": [
        "With the constant HAND_SIZE we decide how many cards we want in our hand.\n",
        "By default it is set to 5, you can change it to any hand size,\n",
        "do keep in mind that the higher the number of cards in your hand,\n",
        "the more branches in the search tree there are, and the longer it will take to run.\n",
        "\n",
        "Your student number is used to set a random seed.\n",
        "There are situations imaginable where you want a pseudo random selection (for example when debugging it's nice to always work with the same values)\n",
        "In short, the seed ensures that you get a pseudo random distribution that will always be the same when you re-run the code.\n",
        "It is a random distribution because you don't have to hard code them in yourself,\n",
        "but it is not random in the sense that the next time you run it you get different cards!\n",
        "For more information on pseudo random number generators,\n",
        "check out https://www.geeksforgeeks.org/pseudo-random-number-generator-prng/."
      ]
    },
    {
      "cell_type": "markdown",
      "metadata": {
        "id": "5_clEmwH06VE"
      },
      "source": [
        "### Updated representation\n",
        "\n",
        "You may wonder how the cards for this game are represented.\n",
        "Go to utils and find out in which variable this information is found, print this variable below:"
      ]
    },
    {
      "cell_type": "code",
      "execution_count": 32,
      "metadata": {
        "id": "pMBhjNUT06VE"
      },
      "outputs": [
        {
          "name": "stdout",
          "output_type": "stream",
          "text": [
            "\n",
            "        h  d  s  c\n",
            "ace  [[ 0  1  2  3]  = 11pts     h = hearts\n",
            "ten   [ 4  5  6  7]  = 10pts     d = diamonds\n",
            "king  [ 8  9 10 11]  = 4pts      s = spades\n",
            "queen [12 13 14 15]  = 3pts      c = clubs\n",
            "jack  [16 17 18 19]] = 2pts\n",
            "For example: '10' is 'king of spades'\n",
            "\n"
          ]
        }
      ],
      "source": [
        "print(representation)"
      ]
    },
    {
      "cell_type": "markdown",
      "metadata": {
        "id": "EZ8ZQ2Ye06VE"
      },
      "source": [
        "Note that cards have values now w.r.t. the game from Assignment 2"
      ]
    },
    {
      "cell_type": "markdown",
      "metadata": {
        "id": "_sEiPmCE06VF"
      },
      "source": [
        "### Some support functions"
      ]
    },
    {
      "cell_type": "markdown",
      "metadata": {
        "id": "TsRzde_K06VF"
      },
      "source": [
        "Next, there are some functions we need for the implementation. Try to get the gist of what they do, but if you do not understand fully, don't worry. The first one returns the points value of a card, the second tests whether a move is valid (so whether a card follows suit, or has the same value). The third is a helper function that checks whether two cards have the same suit, and the fourth function checks whether two cards have the same value. The last one makes a random choice of cards in the hands.\n",
        "\n",
        "We don't expect you to fully understand the coding behind these functions, however, if you are interested you might find the following link useful: https://www.programiz.com/python-programming/matrix. Take a look at how Python Matrices are created and how to access rows and columns."
      ]
    },
    {
      "cell_type": "code",
      "execution_count": 33,
      "metadata": {
        "id": "bs43wL5X06VF"
      },
      "outputs": [],
      "source": [
        "def get_points(cardA):\n",
        "    g = np.arange(20).reshape(5, 4) #this produces the same grid as the representation\n",
        "    if (np.any(g[0] == cardA)): #Ace (11)\n",
        "        return 11\n",
        "    elif (np.any(g[1] == cardA)): #Ten (10)\n",
        "        return 10\n",
        "    elif (np.any(g[2] == cardA)): #King (4)\n",
        "        return 4\n",
        "    elif (np.any(g[3] == cardA)): #Queen (3)\n",
        "        return 3\n",
        "    elif (np.any(g[4] == cardA)): #Jack (2)\n",
        "        return 2\n",
        "\n",
        "def valid_move(cardA, cardB):\n",
        "    #print(\"validMove: comparing \" + str(cardA) + \" to \" + str(cardB)) UNCOMMENT THIS TO SEE WHICH CARDS ARE BEING COMPARED\n",
        "    g = np.arange(20).reshape(5, 4) #this produces the same grid as the representation, for the purpose of checking moves\n",
        "    if check_value(cardA, cardB, g):\n",
        "        return True\n",
        "    elif check_suit(cardA, cardB, g):\n",
        "        return True\n",
        "    else:\n",
        "        #print(\"validMove: No move found\")\n",
        "        return False\n",
        "\n",
        "def check_suit(cardA, cardB, grid):\n",
        "    r, c = grid.shape\n",
        "    for i in range(c):\n",
        "        if np.any(grid[:, i] == cardA) and np.any(grid[:, i] == cardB):\n",
        "            return True\n",
        "\n",
        "def check_value(cardA, cardB, grid):\n",
        "    r, c = grid.shape\n",
        "    for i in range(r):\n",
        "        if np.any(grid[i] == cardA) and np.any(grid[i] == cardB):\n",
        "            return True\n",
        "\n",
        "def pick_cards(seed, size):\n",
        "    random.seed(seed)\n",
        "    cards = np.random.choice(20, (size*2), replace = False)\n",
        "    leftHand = cards[:size]\n",
        "    rightHand = cards[size:]\n",
        "    return (leftHand, rightHand)"
      ]
    },
    {
      "cell_type": "markdown",
      "metadata": {
        "id": "bzlXh4J406VG"
      },
      "source": [
        "### Breadth, and Depth First Search"
      ]
    },
    {
      "cell_type": "markdown",
      "metadata": {
        "id": "gEX3WQVE06VG"
      },
      "source": [
        "From assignment 1 we are already familiar with the Breadth First and Depth First search algorithms. See the code below:"
      ]
    },
    {
      "cell_type": "code",
      "execution_count": 34,
      "metadata": {
        "id": "k1Bq30Ih06VG"
      },
      "outputs": [],
      "source": [
        "def breadth_first_tree_search(problem):\n",
        "    \"\"\"\n",
        "    Search the shallowest nodes in the search tree first.\n",
        "    Search through the successors of a problem to find a goal.\n",
        "    The argument fringe should be an empty queue.\n",
        "    Repeats infinitely in case of loops.\n",
        "    \"\"\"\n",
        "    counter = 0\n",
        "    fringe = deque([Node(problem.initial)])  # FIFO queue\n",
        "    while fringe:\n",
        "        node = fringe.popleft()\n",
        "        counter += 1\n",
        "        if problem.goal_test(node.state):\n",
        "            print(\"###########\")\n",
        "            print(\"success!\")\n",
        "            print(\"solution: {}\".format(node.solution()))\n",
        "            print(\"{} Nodes generated\".format(counter))\n",
        "            return node\n",
        "        fringe.extend(node.expand(problem))\n",
        "    print(\"###########\")\n",
        "    print(\"unfortunately no solution has been found!\")\n",
        "    print(\"{} Nodes generated\".format(counter))\n",
        "    return None"
      ]
    },
    {
      "cell_type": "code",
      "execution_count": 35,
      "metadata": {
        "id": "e04RiBce06VG"
      },
      "outputs": [],
      "source": [
        "def depth_first_tree_search(problem):\n",
        "    \"\"\"\n",
        "    Search the deepest nodes in the search tree first.\n",
        "    Search through the successors of a problem to find a goal.\n",
        "    The argument fringe should be an empty queue.\n",
        "    Repeats infinitely in case of loops.\n",
        "    \"\"\"\n",
        "    counter = 0\n",
        "    fringe = [Node(problem.initial)]  # Stack\n",
        "    while fringe:\n",
        "        node = fringe.pop()\n",
        "        counter += 1\n",
        "        if problem.goal_test(node.state):\n",
        "            print(\"###########\")\n",
        "            print(\"succes!\")\n",
        "            print(\"solution: {}\".format(node.solution()))\n",
        "            print(\"{} Nodes generated\".format(counter))\n",
        "            return node\n",
        "        fringe.extend(node.expand(problem))\n",
        "    print(\"###########\")\n",
        "    print(\"unfortunately no solution has been found!\")\n",
        "    print(\"{} Nodes generated\".format(counter))\n",
        "    return None"
      ]
    },
    {
      "cell_type": "markdown",
      "metadata": {
        "id": "fe-_uh3u06VH"
      },
      "source": [
        "### Preparing the game\n",
        "To run a search, we need to define an initial state. Run the cells below to generate hands automatically, or define a custom set of hands. Please note that if you use a custom set of hands, you need to replace 'leftHand' and 'rightHand' with 'customLeftHand' and 'customRightHand' at gamestate initialisation."
      ]
    },
    {
      "cell_type": "markdown",
      "metadata": {
        "id": "Gudxd0_706VH"
      },
      "source": [
        "The cell below generates the cards for your left and right hand."
      ]
    },
    {
      "cell_type": "code",
      "execution_count": 36,
      "metadata": {
        "id": "q1R2Q8J406VH"
      },
      "outputs": [
        {
          "name": "stdout",
          "output_type": "stream",
          "text": [
            "Left hand: [16, 9, 5, 18, 17]\n",
            "Right hand: [8, 1, 14, 19, 11]\n"
          ]
        }
      ],
      "source": [
        "# leftHand, rightHand = pick_cards(2824004, 5)\n",
        "# print(leftHand, rightHand)\n",
        "customLeftHand = [16, 9, 5, 18, 17]\n",
        "customRightHand = [8, 1, 14, 19, 11]\n",
        "\n",
        "print(\"Left hand: {}\".format(customLeftHand)) #or customLeftHand\n",
        "print(\"Right hand: {}\".format(customRightHand)) #or customRightHand"
      ]
    },
    {
      "cell_type": "markdown",
      "metadata": {
        "id": "Sla461mx06VH"
      },
      "source": [
        "Now we define an initial state, and the problem."
      ]
    },
    {
      "cell_type": "code",
      "execution_count": 37,
      "metadata": {
        "id": "-uVMDREZ06VH"
      },
      "outputs": [
        {
          "name": "stdout",
          "output_type": "stream",
          "text": [
            "------\n",
            "GameState: Printing state: \n",
            "Left hand: [16, 9, 5, 18, 17]\n",
            "Right hand: [8, 1, 14, 19, 11]\n",
            "Do we play from left hand to get to next state? True\n",
            "Points scored: 0\n",
            "All cards: [16, 9, 5, 18, 17, 8, 1, 14, 19, 11]\n",
            "All card points: [2, 4, 10, 2, 2, 4, 11, 3, 2, 4]\n",
            "------\n",
            "There are 33 points needed to win(reach goal state)\n",
            "There are 44 points in the game\n"
          ]
        }
      ],
      "source": [
        "initialState = GameState(customLeftHand, customRightHand, True, True)\n",
        "initialState.printState()\n",
        "\n",
        "p = Problem(initialState)\n",
        "print(\"There are {} points needed to win(reach goal state)\".format(p.winPoints))\n",
        "print(\"There are {} points in the game\".format(sum(p.initial.allCardPoints)))\n"
      ]
    },
    {
      "cell_type": "markdown",
      "metadata": {
        "id": "Fq-cj9qv06VH"
      },
      "source": [
        "## Task 1:\n",
        "\n",
        "Run Breadth and Depth first search and implement a counter in the algorithm above that prints the number of nodes generated (as you did in the previous assignment, although now to print you must uncomment the print statements instead of formulating your own)."
      ]
    },
    {
      "cell_type": "code",
      "execution_count": 38,
      "metadata": {
        "id": "hdE8rp4w06VH"
      },
      "outputs": [
        {
          "name": "stdout",
          "output_type": "stream",
          "text": [
            "###########\n",
            "success!\n",
            "solution: [5, 1, 9, 8, 16, 19]\n",
            "69 Nodes generated\n",
            "The Breadth First Search Took 22572 Microseconds\n",
            "BFS PATH_COST: 149\n",
            "###########\n",
            "succes!\n",
            "solution: [17, 19, 16, 8, 9, 1, 5]\n",
            "11 Nodes generated\n",
            "The Depth First Search Took 3091 Microseconds\n",
            "DFS PATH_COST: 61\n"
          ]
        }
      ],
      "source": [
        "startTime = datetime.datetime.now()\n",
        "s=breadth_first_tree_search(p)\n",
        "endTime = datetime.datetime.now()\n",
        "duration = endTime - startTime\n",
        "print(\"The Breadth First Search Took {} Microseconds\".format(duration.microseconds))\n",
        "print(\"BFS PATH_COST: {}\".format(s.path_cost))\n",
        "\n",
        "startTime = datetime.datetime.now()\n",
        "s=depth_first_tree_search(p)\n",
        "endTime = datetime.datetime.now()\n",
        "duration = endTime - startTime\n",
        "print(\"The Depth First Search Took {} Microseconds\".format(duration.microseconds))\n",
        "print(\"DFS PATH_COST: {}\".format(s.path_cost))\n"
      ]
    },
    {
      "cell_type": "markdown",
      "metadata": {
        "id": "ikWFvLFk06VI"
      },
      "source": [
        "### Greedy Best First Search"
      ]
    },
    {
      "cell_type": "markdown",
      "metadata": {
        "id": "iyB_CZtY06VI"
      },
      "source": [
        "See the code below for the Greedy Best First Search Algorithm"
      ]
    },
    {
      "cell_type": "code",
      "execution_count": 39,
      "metadata": {
        "id": "VhNV5TYG06VI"
      },
      "outputs": [],
      "source": [
        "def greedy_best_first_search(problem, f, display=True):\n",
        "    \"\"\"Search the nodes with the lowest f scores first.\n",
        "    You specify the function f(node) that you want to minimize; for example,\n",
        "    if f is a heuristic estimate to the goal, then we have greedy best\n",
        "    first search; \"\"\"\n",
        "    f = memoize(f, 'f')\n",
        "    node = Node(problem.initial)\n",
        "    frontier = PriorityQueue('min', f)\n",
        "    frontier.append(node)\n",
        "    explored = set()\n",
        "    counter = 0\n",
        "    while frontier:\n",
        "        node = frontier.pop()\n",
        "        counter += 1\n",
        "        if problem.goal_test(node.state):\n",
        "            if display:\n",
        "                print(\"Search succesful!\")\n",
        "                print(len(explored), \"paths have been expanded and\", len(frontier), \"paths remain in the frontier\")\n",
        "                print(\"solution: {}\".format(node.solution()))\n",
        "                print(\"{} Nodes generated\".format(counter))\n",
        "            return node\n",
        "        explored.add(node.state)\n",
        "        for child in node.expand(problem):\n",
        "            if child.state not in explored and child not in frontier:\n",
        "                frontier.append(child)\n",
        "            elif child in frontier:\n",
        "                if f(child) < frontier[child]:\n",
        "                    del frontier[child]\n",
        "                    frontier.append(child)\n",
        "    print(\"Search failed\")\n",
        "    print(\"{} Nodes generated\".format(counter))\n",
        "    return None"
      ]
    },
    {
      "cell_type": "markdown",
      "metadata": {
        "id": "gUcw5gaY06VI"
      },
      "source": [
        "## Task 2\n",
        "\n",
        "Run A Greedy Best First Search and implement a counter in the algorithm above that prints the number of nodes generated (as you did in the previous assignment, although now to print you must uncomment the print statements instead of formulating your own)."
      ]
    },
    {
      "cell_type": "code",
      "execution_count": 40,
      "metadata": {
        "id": "fXXmXiVG06VI"
      },
      "outputs": [
        {
          "name": "stdout",
          "output_type": "stream",
          "text": [
            "Search succesful!\n",
            "6 paths have been expanded and 6 paths remain in the frontier\n",
            "solution: [5, 1, 9, 8, 16, 19]\n",
            "7 Nodes generated\n",
            "The Greedy Best First Search Took 4848 Microseconds\n"
          ]
        }
      ],
      "source": [
        "startTime = datetime.datetime.now()\n",
        "greedy_best_first_search(p, p.h, True)\n",
        "endTime = datetime.datetime.now()\n",
        "duration = endTime - startTime\n",
        "print(\"The Greedy Best First Search Took {} Microseconds\".format(duration.microseconds))"
      ]
    },
    {
      "cell_type": "markdown",
      "metadata": {
        "id": "eyFxFbfk06VJ"
      },
      "source": [
        "## Task 3\n",
        "\n",
        "In what way do Depth First Search, Breadth First Search and Greedy Best First Search (using the distance to the goal as heuristic) differ?\n",
        "\n",
        "Return a (brief) report to the multi line string below, take into account the number of nodes counted from the counter you implemented:\n"
      ]
    },
    {
      "cell_type": "code",
      "execution_count": 41,
      "metadata": {
        "id": "QUdh5Z9C06VJ"
      },
      "outputs": [],
      "source": [
        "myReport1 = \"\"\"\n",
        "The most apparent difference is the amount of nodes generated in DFS, BFS and Greedy Best First Search. DFS generated 11 nodes, \n",
        "BFS generated 69 nodes and Greedy Best First Search generated 7 nodes. This means that Greedy Best First Search generated the\n",
        "least amount of nodes, meaning it checked less nodes until it found the goal state compared to BFS and DFS. This is due to \n",
        "Greedy Best First Search using heuristics which allows for an informed search to take place compared to the uninformed searches\n",
        "happening in DFS and BFS.\n",
        "\"\"\""
      ]
    },
    {
      "cell_type": "markdown",
      "metadata": {
        "id": "1LTPdasA06VJ"
      },
      "source": [
        "## Task 4\n",
        "\n",
        "Run a Greedy Best First Search (again) but this time print the path cost (uncomment the print statement and fill in the right variable.)\n",
        "\n",
        "(Hint: Go into utils.py, in class Node you can see a variable that should help you. Remember that a -successful- search returns a Node which is saved as 'search' here)"
      ]
    },
    {
      "cell_type": "code",
      "execution_count": 42,
      "metadata": {
        "id": "mN6NYAqj06VJ"
      },
      "outputs": [
        {
          "name": "stdout",
          "output_type": "stream",
          "text": [
            "Search succesful!\n",
            "6 paths have been expanded and 6 paths remain in the frontier\n",
            "solution: [5, 1, 9, 8, 16, 19]\n",
            "7 Nodes generated\n",
            "Path cost: 149\n"
          ]
        }
      ],
      "source": [
        "search = greedy_best_first_search(p, p.h)\n",
        "\n",
        "print(\"Path cost: {}\".format(search.path_cost))"
      ]
    },
    {
      "cell_type": "markdown",
      "metadata": {
        "id": "fojdqkBN06VJ"
      },
      "source": [
        "### A* Search algorithm\n",
        "\n",
        "See the code for the A star search below:"
      ]
    },
    {
      "cell_type": "code",
      "execution_count": 43,
      "metadata": {
        "id": "YeslzsYi06VK"
      },
      "outputs": [],
      "source": [
        "def astar_search(problem, h=None, display=True):\n",
        "    \"\"\"A* search is best-first graph search with f(n) = g(n)+h(n).\n",
        "    You need to specify the h function when you call astar_search, or\n",
        "    else in your Problem subclass.\"\"\"\n",
        "    return greedy_best_first_search(problem, lambda n: n.path_cost + h(n), display)"
      ]
    },
    {
      "cell_type": "markdown",
      "metadata": {
        "id": "gHXg0n7B06VK"
      },
      "source": [
        "## Task 5\n",
        "\n",
        "Consider the the solution of a greedy best first search and an a star search:"
      ]
    },
    {
      "cell_type": "code",
      "execution_count": 44,
      "metadata": {
        "id": "mlrDiOBB06VK"
      },
      "outputs": [
        {
          "name": "stdout",
          "output_type": "stream",
          "text": [
            "Greedy Best First Search: \n",
            "Search succesful!\n",
            "6 paths have been expanded and 6 paths remain in the frontier\n",
            "solution: [5, 1, 9, 8, 16, 19]\n",
            "7 Nodes generated\n",
            "Path cost: 149\n",
            "A Star Search: \n",
            "Search succesful!\n",
            "26 paths have been expanded and 9 paths remain in the frontier\n",
            "solution: [17, 19, 16, 8, 9, 1, 5]\n",
            "27 Nodes generated\n",
            "Path cost: 61\n"
          ]
        }
      ],
      "source": [
        "print(\"Greedy Best First Search: \")\n",
        "gbf=greedy_best_first_search(p, p.h, True)\n",
        "print(\"Path cost: {}\".format(gbf.path_cost))\n",
        "\n",
        "print(\"A Star Search: \")\n",
        "ast=astar_search(p, p.h) # Needed to add the argument p.h otherwise the algorithm will try to call a function that wasn't passed\n",
        "print(\"Path cost: {}\".format(ast.path_cost))\n"
      ]
    },
    {
      "cell_type": "markdown",
      "metadata": {
        "id": "mGBN0xri06VK"
      },
      "source": [
        "Explain in your own words what the difference between the two algorithms is, and why the solutions differ. Return your explanation to the multi line string below:"
      ]
    },
    {
      "cell_type": "code",
      "execution_count": 45,
      "metadata": {
        "id": "1uFLkh1q06VK"
      },
      "outputs": [],
      "source": [
        "myReport2 = \"\"\"\n",
        "Since A star search combines the use of heuristics with the cost of reaching the goal from the current node it is at,\n",
        "A star search is less expensive and more optimal since it will always find the least expensive way to get to the goal state,\n",
        "whereas Greedy Best First Search takes the first path to the goal it can find, which in turn, leads to an unoptimal solution.\n",
        "This can also be seen by the fact that Greedy Best First Search only explored 6 paths until it stops whereas A star explored \n",
        "26 paths, which is also the reason for why A star was able to find a path with the cost of only 61 compared to the path cost\n",
        "of 149 that the path generated through Greedy Best First search.\n",
        "\"\"\""
      ]
    },
    {
      "cell_type": "markdown",
      "metadata": {
        "id": "xKxoACZ506VL"
      },
      "source": [
        "## Final Task: Collect all the results\n",
        "\n",
        "Uncomment and run this cell (and all the cells above) to generate the text file that you have to hand in together with the notebook on canvas!"
      ]
    },
    {
      "cell_type": "code",
      "execution_count": 46,
      "metadata": {
        "id": "BmRzED-w06VL"
      },
      "outputs": [],
      "source": [
        "exportToText(\"assignment3.txt\",STUDENT_NUMBER, customLeftHand, customRightHand, myReport1, myReport2 )"
      ]
    }
  ],
  "metadata": {
    "colab": {
      "provenance": []
    },
    "kernelspec": {
      "display_name": "Python 3",
      "language": "python",
      "name": "python3"
    },
    "language_info": {
      "codemirror_mode": {
        "name": "ipython",
        "version": 3
      },
      "file_extension": ".py",
      "mimetype": "text/x-python",
      "name": "python",
      "nbconvert_exporter": "python",
      "pygments_lexer": "ipython3",
      "version": "3.11.4"
    }
  },
  "nbformat": 4,
  "nbformat_minor": 0
}
